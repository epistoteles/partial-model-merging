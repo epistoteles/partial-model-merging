{
 "cells": [
  {
   "cell_type": "markdown",
   "id": "9021242c",
   "metadata": {},
   "source": [
    "# Train-and-Permute-CIFAR10-VGG11\n",
    "\n",
    "This notebook executes the following:\n",
    "\n",
    "1. We train two normalization-free, 2x width VGG11 networks, calling them model0 and model1.\n",
    "2. We compute a set of permutations which align the neurons of model1 with those of model0. We use a correlation-based method which goes back to https://arxiv.org/abs/1511.07543.\n",
    "3. We evaluate the accuracy of the interpolation between model0 and the neuron-permuted version of model1. It's not very good -- accuracy drops from ~90% at the \"endpoint\" networks to ~73% at the midpoint.\n",
    "4. We investigate the cause of this drop. We find that the later hidden units of the interpolated network have \"collapsed variance\".\n",
    "5. We introduce a method of correcting for this phenomenon: For each unit in the interpolated network, we rescale it such that its statistics are similar to those of the parent/endpoint networks.\n",
    "6. We re-evaluate the interpolated network after this correction has been applied, and find that it gets 86.5% test accuracy. So the gap / \"barrier\" has shrunk from 90-73 = 17% to only ~4%. The barrier in terms of test loss is also below 0.1 after correction.\n",
    "\n",
    "We also note that the idea of resetting the BatchNorm statistics of interpolated networks goes at least back to https://arxiv.org/abs/1803.05407. The method we introduce here can be thought of as a generalization of BatchNorm-reset to networks which don't use BatchNorm!\n",
    "\n",
    "For some comparable numbers we can look at the VGG curve of Figure 4 in Git Re-Basin (https://arxiv.org/abs/2209.04836). The authors use a permutation-only method with LayerNorm-based networks, and report a test loss barrier of ~0.25 for 2x-width VGG-16."
   ]
  },
  {
   "cell_type": "code",
<<<<<<< HEAD
   "execution_count": 1,
=======
   "execution_count": 4,
>>>>>>> 636cd67f7afcd67c756ca3dc6a7543b971d7e850
   "id": "c0db779d",
   "metadata": {},
   "outputs": [],
   "source": [
    "import os\n",
    "import sys\n",
<<<<<<< HEAD
    "import git\n",
    "\n",
    "from codecarbon import EmissionsTracker\n",
=======
>>>>>>> 636cd67f7afcd67c756ca3dc6a7543b971d7e850
    "\n",
    "from tqdm import tqdm\n",
    "import numpy as np\n",
    "import matplotlib.pyplot as plt\n",
    "import scipy.optimize\n",
    "\n",
    "import torch\n",
    "from torch import nn\n",
    "import torch.nn.functional as F\n",
    "from torch.cuda.amp import GradScaler, autocast\n",
    "from torch.nn import CrossEntropyLoss\n",
    "from torch.optim import SGD, Adam, lr_scheduler\n",
    "import torchvision\n",
    "import torchvision.transforms as T\n",
    "\n",
<<<<<<< HEAD
    "import ffcv\n",
    "import ffcv.fields as fields"
=======
    "from codecarbon import EmissionsTracker"
>>>>>>> 636cd67f7afcd67c756ca3dc6a7543b971d7e850
   ]
  },
  {
   "cell_type": "markdown",
   "id": "fdf1a55e",
   "metadata": {},
   "source": [
<<<<<<< HEAD
    "# setup\n",
    "\n",
    "#### Determine root directory and track emissions"
=======
    "# setup"
>>>>>>> 636cd67f7afcd67c756ca3dc6a7543b971d7e850
   ]
  },
  {
   "cell_type": "code",
<<<<<<< HEAD
   "execution_count": 2,
   "id": "2e400db6",
   "metadata": {},
   "outputs": [],
   "source": [
    "root_dir = git.Repo(search_parent_directories=True).git.rev_parse('--show-toplevel')\n",
    "\n",
    "tracker = EmissionsTracker(output_dir=root_dir,\n",
    "                           log_level='critical')\n",
=======
   "execution_count": 5,
   "id": "2e400db6",
   "metadata": {},
   "outputs": [
    {
     "name": "stderr",
     "output_type": "stream",
     "text": [
      "[codecarbon INFO @ 12:33:23] [setup] RAM Tracking...\n",
      "[codecarbon INFO @ 12:33:23] [setup] GPU Tracking...\n",
      "[codecarbon INFO @ 12:33:23] No GPU found.\n",
      "[codecarbon INFO @ 12:33:23] [setup] CPU Tracking...\n",
      "[codecarbon ERROR @ 12:33:23] Unable to read Intel RAPL files for CPU power, we will use a constant for your CPU power. Please view https://github.com/mlco2/codecarbon/issues/244 for workarounds : [Errno 13] Permission denied: '/sys/class/powercap/intel-rapl/intel-rapl:0/energy_uj'\n",
      "[codecarbon INFO @ 12:33:23] Tracking Intel CPU via RAPL interface\n",
      "[codecarbon ERROR @ 12:33:24] Unable to read Intel RAPL files for CPU power, we will use a constant for your CPU power. Please view https://github.com/mlco2/codecarbon/issues/244 for workarounds : [Errno 13] Permission denied: '/sys/class/powercap/intel-rapl/intel-rapl:0/energy_uj'\n",
      "[codecarbon INFO @ 12:33:24] >>> Tracker's metadata:\n",
      "[codecarbon INFO @ 12:33:24]   Platform system: Linux-5.19.0-38-generic-x86_64-with-glibc2.35\n",
      "[codecarbon INFO @ 12:33:24]   Python version: 3.10.6\n",
      "[codecarbon INFO @ 12:33:24]   Available RAM : 15.004 GB\n",
      "[codecarbon INFO @ 12:33:24]   CPU count: 8\n",
      "[codecarbon INFO @ 12:33:24]   CPU model: AMD Ryzen 7 4700U with Radeon Graphics\n",
      "[codecarbon INFO @ 12:33:24]   GPU count: None\n",
      "[codecarbon INFO @ 12:33:24]   GPU model: None\n",
      "[codecarbon INFO @ 12:33:34] Energy consumed for RAM : 0.003209 kWh. RAM Power : 5.626379013061523 W\n",
      "[codecarbon INFO @ 12:33:34] Energy consumed for all CPUs : 0.000000 kWh. All CPUs Power : 0.0 W\n",
      "[codecarbon INFO @ 12:33:34] 0.003209 kWh of electricity used since the begining.\n",
      "[codecarbon INFO @ 12:33:43] Energy consumed for RAM : 0.000023 kWh. RAM Power : 5.626379013061523 W\n",
      "[codecarbon INFO @ 12:33:43] Energy consumed for all CPUs : 0.000000 kWh. All CPUs Power : 0.0 W\n",
      "[codecarbon INFO @ 12:33:43] 0.000023 kWh of electricity used since the begining.\n",
      "[codecarbon INFO @ 12:33:49] Energy consumed for RAM : 0.003232 kWh. RAM Power : 5.626379013061523 W\n",
      "[codecarbon INFO @ 12:33:49] Energy consumed for all CPUs : 0.000000 kWh. All CPUs Power : 0.0 W\n",
      "[codecarbon INFO @ 12:33:49] 0.003232 kWh of electricity used since the begining.\n",
      "[codecarbon INFO @ 12:33:58] Energy consumed for RAM : 0.000047 kWh. RAM Power : 5.626379013061523 W\n",
      "[codecarbon INFO @ 12:33:58] Energy consumed for all CPUs : 0.000000 kWh. All CPUs Power : 0.0 W\n",
      "[codecarbon INFO @ 12:33:58] 0.000047 kWh of electricity used since the begining.\n",
      "[codecarbon INFO @ 12:34:04] Energy consumed for RAM : 0.003256 kWh. RAM Power : 5.626379013061523 W\n",
      "[codecarbon INFO @ 12:34:04] Energy consumed for all CPUs : 0.000000 kWh. All CPUs Power : 0.0 W\n",
      "[codecarbon INFO @ 12:34:04] 0.003256 kWh of electricity used since the begining.\n",
      "[codecarbon INFO @ 12:34:13] Energy consumed for RAM : 0.000070 kWh. RAM Power : 5.626379013061523 W\n",
      "[codecarbon INFO @ 12:34:13] Energy consumed for all CPUs : 0.000000 kWh. All CPUs Power : 0.0 W\n",
      "[codecarbon INFO @ 12:34:13] 0.000070 kWh of electricity used since the begining.\n",
      "[codecarbon INFO @ 12:34:19] Energy consumed for RAM : 0.003279 kWh. RAM Power : 5.626379013061523 W\n",
      "[codecarbon INFO @ 12:34:19] Energy consumed for all CPUs : 0.000000 kWh. All CPUs Power : 0.0 W\n",
      "[codecarbon INFO @ 12:34:19] 0.003279 kWh of electricity used since the begining.\n",
      "[codecarbon INFO @ 12:34:28] Energy consumed for RAM : 0.000094 kWh. RAM Power : 5.626379013061523 W\n",
      "[codecarbon INFO @ 12:34:28] Energy consumed for all CPUs : 0.000000 kWh. All CPUs Power : 0.0 W\n",
      "[codecarbon INFO @ 12:34:28] 0.000094 kWh of electricity used since the begining.\n",
      "[codecarbon INFO @ 12:34:34] Energy consumed for RAM : 0.003303 kWh. RAM Power : 5.626379013061523 W\n",
      "[codecarbon INFO @ 12:34:34] Energy consumed for all CPUs : 0.000000 kWh. All CPUs Power : 0.0 W\n",
      "[codecarbon INFO @ 12:34:34] 0.003303 kWh of electricity used since the begining.\n",
      "[codecarbon INFO @ 12:34:43] Energy consumed for RAM : 0.000117 kWh. RAM Power : 5.626379013061523 W\n",
      "[codecarbon INFO @ 12:34:43] Energy consumed for all CPUs : 0.000000 kWh. All CPUs Power : 0.0 W\n",
      "[codecarbon INFO @ 12:34:43] 0.000117 kWh of electricity used since the begining.\n",
      "[codecarbon INFO @ 12:34:49] Energy consumed for RAM : 0.003326 kWh. RAM Power : 5.626379013061523 W\n",
      "[codecarbon INFO @ 12:34:49] Energy consumed for all CPUs : 0.000000 kWh. All CPUs Power : 0.0 W\n",
      "[codecarbon INFO @ 12:34:49] 0.003326 kWh of electricity used since the begining.\n",
      "[codecarbon INFO @ 12:34:58] Energy consumed for RAM : 0.000141 kWh. RAM Power : 5.626379013061523 W\n",
      "[codecarbon INFO @ 12:34:58] Energy consumed for all CPUs : 0.000000 kWh. All CPUs Power : 0.0 W\n",
      "[codecarbon INFO @ 12:34:58] 0.000141 kWh of electricity used since the begining.\n",
      "[codecarbon INFO @ 12:35:04] Energy consumed for RAM : 0.003349 kWh. RAM Power : 5.626379013061523 W\n",
      "[codecarbon INFO @ 12:35:04] Energy consumed for all CPUs : 0.000000 kWh. All CPUs Power : 0.0 W\n",
      "[codecarbon INFO @ 12:35:04] 0.003349 kWh of electricity used since the begining.\n",
      "[codecarbon INFO @ 12:35:13] Energy consumed for RAM : 0.000164 kWh. RAM Power : 5.626379013061523 W\n",
      "[codecarbon INFO @ 12:35:13] Energy consumed for all CPUs : 0.000000 kWh. All CPUs Power : 0.0 W\n",
      "[codecarbon INFO @ 12:35:13] 0.000164 kWh of electricity used since the begining.\n",
      "[codecarbon INFO @ 12:35:19] Energy consumed for RAM : 0.003373 kWh. RAM Power : 5.626379013061523 W\n",
      "[codecarbon INFO @ 12:35:19] Energy consumed for all CPUs : 0.000000 kWh. All CPUs Power : 0.0 W\n",
      "[codecarbon INFO @ 12:35:19] 0.003373 kWh of electricity used since the begining.\n",
      "[codecarbon INFO @ 12:35:28] Energy consumed for RAM : 0.000188 kWh. RAM Power : 5.626379013061523 W\n",
      "[codecarbon INFO @ 12:35:28] Energy consumed for all CPUs : 0.000000 kWh. All CPUs Power : 0.0 W\n",
      "[codecarbon INFO @ 12:35:28] 0.000188 kWh of electricity used since the begining.\n",
      "[codecarbon INFO @ 12:35:34] Energy consumed for RAM : 0.003396 kWh. RAM Power : 5.626379013061523 W\n",
      "[codecarbon INFO @ 12:35:34] Energy consumed for all CPUs : 0.000000 kWh. All CPUs Power : 0.0 W\n",
      "[codecarbon INFO @ 12:35:34] 0.003396 kWh of electricity used since the begining.\n",
      "[codecarbon INFO @ 12:35:43] Energy consumed for RAM : 0.000211 kWh. RAM Power : 5.626379013061523 W\n",
      "[codecarbon INFO @ 12:35:43] Energy consumed for all CPUs : 0.000000 kWh. All CPUs Power : 0.0 W\n",
      "[codecarbon INFO @ 12:35:43] 0.000211 kWh of electricity used since the begining.\n",
      "[codecarbon INFO @ 12:35:49] Energy consumed for RAM : 0.003420 kWh. RAM Power : 5.626379013061523 W\n",
      "[codecarbon INFO @ 12:35:49] Energy consumed for all CPUs : 0.000000 kWh. All CPUs Power : 0.0 W\n",
      "[codecarbon INFO @ 12:35:49] 0.003420 kWh of electricity used since the begining.\n",
      "[codecarbon INFO @ 12:35:58] Energy consumed for RAM : 0.000234 kWh. RAM Power : 5.626379013061523 W\n",
      "[codecarbon INFO @ 12:35:58] Energy consumed for all CPUs : 0.000000 kWh. All CPUs Power : 0.0 W\n",
      "[codecarbon INFO @ 12:35:58] 0.000234 kWh of electricity used since the begining.\n",
      "[codecarbon INFO @ 12:36:04] Energy consumed for RAM : 0.003443 kWh. RAM Power : 5.626379013061523 W\n",
      "[codecarbon INFO @ 12:36:04] Energy consumed for all CPUs : 0.000000 kWh. All CPUs Power : 0.0 W\n",
      "[codecarbon INFO @ 12:36:04] 0.003443 kWh of electricity used since the begining.\n"
     ]
    }
   ],
   "source": [
    "tracker = EmissionsTracker()\n",
>>>>>>> 636cd67f7afcd67c756ca3dc6a7543b971d7e850
    "tracker.start()"
   ]
  },
  {
<<<<<<< HEAD
   "cell_type": "markdown",
   "id": "cac8e17c",
   "metadata": {},
   "source": [
    "#### Ensure the dataset is downloaded and available as a .beton file"
   ]
  },
  {
   "cell_type": "code",
   "execution_count": 3,
   "id": "f95f6d15",
   "metadata": {},
   "outputs": [],
   "source": [
    "def convert_dataset(dset, name):\n",
    "    writer = ffcv.writer.DatasetWriter(name + '.beton', {\n",
    "        'image': fields.RGBImageField(),\n",
    "        'label': fields.IntField()\n",
    "    })\n",
    "    writer.from_indexed_dataset(dset)"
   ]
  },
  {
   "cell_type": "code",
   "execution_count": 4,
   "id": "8c93ce92",
   "metadata": {},
   "outputs": [
    {
     "name": "stdout",
     "output_type": "stream",
     "text": [
      "Downloading https://www.cs.toronto.edu/~kriz/cifar-10-python.tar.gz to /home/korbinian/partial-model-merging/data/cifar-10-python.tar.gz\n"
=======
   "cell_type": "code",
   "execution_count": 9,
   "id": "0fbe2090",
   "metadata": {},
   "outputs": [
    {
     "data": {
      "text/plain": [
       "EmissionsData(timestamp='2023-05-02T12:39:44', project_name='codecarbon', run_id='b230a49d-7af7-4785-ab45-243868fc9a42', duration=376.7150297164917, emissions=0.0001771687574945463, emissions_rate=0.0004702991479471366, cpu_power=0.0, gpu_power=0.0, ram_power=5.626379013061523, cpu_energy=0, gpu_energy=0, ram_energy=0.0005886005232376954, energy_consumed=0.0005886005232376954, country_name='Germany', country_iso_code='DEU', region='free and hanseatic city of hamburg', cloud_provider='', cloud_region='', os='Linux-5.19.0-38-generic-x86_64-with-glibc2.35', python_version='3.10.6', cpu_count=8, cpu_model='AMD Ryzen 7 4700U with Radeon Graphics', gpu_count=None, gpu_model=None, longitude=9.9946, latitude=53.5544, ram_total_size=15.003677368164062, tracking_mode='machine', on_cloud='N')"
      ]
     },
     "execution_count": 9,
     "metadata": {},
     "output_type": "execute_result"
    },
    {
     "name": "stderr",
     "output_type": "stream",
     "text": [
      "[codecarbon INFO @ 12:40:04] Energy consumed for RAM : 0.003818 kWh. RAM Power : 5.626379013061523 W\n",
      "[codecarbon INFO @ 12:40:04] Energy consumed for all CPUs : 0.000000 kWh. All CPUs Power : 0.0 W\n",
      "[codecarbon INFO @ 12:40:04] 0.003818 kWh of electricity used since the begining.\n",
      "[codecarbon INFO @ 12:40:19] Energy consumed for RAM : 0.003842 kWh. RAM Power : 5.626379013061523 W\n",
      "[codecarbon INFO @ 12:40:19] Energy consumed for all CPUs : 0.000000 kWh. All CPUs Power : 0.0 W\n",
      "[codecarbon INFO @ 12:40:19] 0.003842 kWh of electricity used since the begining.\n",
      "[codecarbon INFO @ 12:40:34] Energy consumed for RAM : 0.003865 kWh. RAM Power : 5.626379013061523 W\n",
      "[codecarbon INFO @ 12:40:34] Energy consumed for all CPUs : 0.000000 kWh. All CPUs Power : 0.0 W\n",
      "[codecarbon INFO @ 12:40:34] 0.003865 kWh of electricity used since the begining.\n",
      "[codecarbon INFO @ 12:40:49] Energy consumed for RAM : 0.003888 kWh. RAM Power : 5.626379013061523 W\n",
      "[codecarbon INFO @ 12:40:49] Energy consumed for all CPUs : 0.000000 kWh. All CPUs Power : 0.0 W\n",
      "[codecarbon INFO @ 12:40:49] 0.003888 kWh of electricity used since the begining.\n",
      "[codecarbon INFO @ 12:41:04] Energy consumed for RAM : 0.003912 kWh. RAM Power : 5.626379013061523 W\n",
      "[codecarbon INFO @ 12:41:04] Energy consumed for all CPUs : 0.000000 kWh. All CPUs Power : 0.0 W\n",
      "[codecarbon INFO @ 12:41:04] 0.003912 kWh of electricity used since the begining.\n",
      "[codecarbon INFO @ 12:41:19] Energy consumed for RAM : 0.003935 kWh. RAM Power : 5.626379013061523 W\n",
      "[codecarbon INFO @ 12:41:19] Energy consumed for all CPUs : 0.000000 kWh. All CPUs Power : 0.0 W\n",
      "[codecarbon INFO @ 12:41:19] 0.003935 kWh of electricity used since the begining.\n",
      "[codecarbon INFO @ 12:41:34] Energy consumed for RAM : 0.003959 kWh. RAM Power : 5.626379013061523 W\n",
      "[codecarbon INFO @ 12:41:34] Energy consumed for all CPUs : 0.000000 kWh. All CPUs Power : 0.0 W\n",
      "[codecarbon INFO @ 12:41:34] 0.003959 kWh of electricity used since the begining.\n",
      "[codecarbon INFO @ 12:41:49] Energy consumed for RAM : 0.003982 kWh. RAM Power : 5.626379013061523 W\n",
      "[codecarbon INFO @ 12:41:49] Energy consumed for all CPUs : 0.000000 kWh. All CPUs Power : 0.0 W\n",
      "[codecarbon INFO @ 12:41:49] 0.003982 kWh of electricity used since the begining.\n",
      "[codecarbon INFO @ 12:42:04] Energy consumed for RAM : 0.004006 kWh. RAM Power : 5.626379013061523 W\n",
      "[codecarbon INFO @ 12:42:04] Energy consumed for all CPUs : 0.000000 kWh. All CPUs Power : 0.0 W\n",
      "[codecarbon INFO @ 12:42:04] 0.004006 kWh of electricity used since the begining.\n",
      "[codecarbon INFO @ 12:42:19] Energy consumed for RAM : 0.004029 kWh. RAM Power : 5.626379013061523 W\n",
      "[codecarbon INFO @ 12:42:19] Energy consumed for all CPUs : 0.000000 kWh. All CPUs Power : 0.0 W\n",
      "[codecarbon INFO @ 12:42:19] 0.004029 kWh of electricity used since the begining.\n",
      "[codecarbon INFO @ 12:42:34] Energy consumed for RAM : 0.004052 kWh. RAM Power : 5.626379013061523 W\n",
      "[codecarbon INFO @ 12:42:34] Energy consumed for all CPUs : 0.000000 kWh. All CPUs Power : 0.0 W\n",
      "[codecarbon INFO @ 12:42:34] 0.004052 kWh of electricity used since the begining.\n",
      "[codecarbon INFO @ 12:42:49] Energy consumed for RAM : 0.004076 kWh. RAM Power : 5.626379013061523 W\n",
      "[codecarbon INFO @ 12:42:49] Energy consumed for all CPUs : 0.000000 kWh. All CPUs Power : 0.0 W\n",
      "[codecarbon INFO @ 12:42:49] 0.004076 kWh of electricity used since the begining.\n",
      "[codecarbon INFO @ 12:43:04] Energy consumed for RAM : 0.004099 kWh. RAM Power : 5.626379013061523 W\n",
      "[codecarbon INFO @ 12:43:04] Energy consumed for all CPUs : 0.000000 kWh. All CPUs Power : 0.0 W\n",
      "[codecarbon INFO @ 12:43:04] 0.004099 kWh of electricity used since the begining.\n",
      "[codecarbon INFO @ 12:43:19] Energy consumed for RAM : 0.004123 kWh. RAM Power : 5.626379013061523 W\n",
      "[codecarbon INFO @ 12:43:19] Energy consumed for all CPUs : 0.000000 kWh. All CPUs Power : 0.0 W\n",
      "[codecarbon INFO @ 12:43:19] 0.004123 kWh of electricity used since the begining.\n",
      "[codecarbon INFO @ 12:43:34] Energy consumed for RAM : 0.004146 kWh. RAM Power : 5.626379013061523 W\n",
      "[codecarbon INFO @ 12:43:34] Energy consumed for all CPUs : 0.000000 kWh. All CPUs Power : 0.0 W\n",
      "[codecarbon INFO @ 12:43:34] 0.004146 kWh of electricity used since the begining.\n",
      "[codecarbon INFO @ 12:43:49] Energy consumed for RAM : 0.004170 kWh. RAM Power : 5.626379013061523 W\n",
      "[codecarbon INFO @ 12:43:49] Energy consumed for all CPUs : 0.000000 kWh. All CPUs Power : 0.0 W\n",
      "[codecarbon INFO @ 12:43:49] 0.004170 kWh of electricity used since the begining.\n",
      "[codecarbon INFO @ 12:44:04] Energy consumed for RAM : 0.004193 kWh. RAM Power : 5.626379013061523 W\n",
      "[codecarbon INFO @ 12:44:04] Energy consumed for all CPUs : 0.000000 kWh. All CPUs Power : 0.0 W\n",
      "[codecarbon INFO @ 12:44:04] 0.004193 kWh of electricity used since the begining.\n",
      "[codecarbon INFO @ 12:44:19] Energy consumed for RAM : 0.004217 kWh. RAM Power : 5.626379013061523 W\n",
      "[codecarbon INFO @ 12:44:19] Energy consumed for all CPUs : 0.000000 kWh. All CPUs Power : 0.0 W\n",
      "[codecarbon INFO @ 12:44:19] 0.004217 kWh of electricity used since the begining.\n",
      "[codecarbon INFO @ 12:44:34] Energy consumed for RAM : 0.004240 kWh. RAM Power : 5.626379013061523 W\n",
      "[codecarbon INFO @ 12:44:34] Energy consumed for all CPUs : 0.000000 kWh. All CPUs Power : 0.0 W\n",
      "[codecarbon INFO @ 12:44:34] 0.004240 kWh of electricity used since the begining.\n",
      "[codecarbon INFO @ 12:44:49] Energy consumed for RAM : 0.004263 kWh. RAM Power : 5.626379013061523 W\n",
      "[codecarbon INFO @ 12:44:49] Energy consumed for all CPUs : 0.000000 kWh. All CPUs Power : 0.0 W\n",
      "[codecarbon INFO @ 12:44:49] 0.004263 kWh of electricity used since the begining.\n",
      "[codecarbon INFO @ 12:45:04] Energy consumed for RAM : 0.004287 kWh. RAM Power : 5.626379013061523 W\n",
      "[codecarbon INFO @ 12:45:04] Energy consumed for all CPUs : 0.000000 kWh. All CPUs Power : 0.0 W\n",
      "[codecarbon INFO @ 12:45:04] 0.004287 kWh of electricity used since the begining.\n",
      "[codecarbon INFO @ 12:45:19] Energy consumed for RAM : 0.004310 kWh. RAM Power : 5.626379013061523 W\n",
      "[codecarbon INFO @ 12:45:19] Energy consumed for all CPUs : 0.000000 kWh. All CPUs Power : 0.0 W\n",
      "[codecarbon INFO @ 12:45:19] 0.004310 kWh of electricity used since the begining.\n",
      "[codecarbon INFO @ 12:45:34] Energy consumed for RAM : 0.004334 kWh. RAM Power : 5.626379013061523 W\n",
      "[codecarbon INFO @ 12:45:34] Energy consumed for all CPUs : 0.000000 kWh. All CPUs Power : 0.0 W\n",
      "[codecarbon INFO @ 12:45:34] 0.004334 kWh of electricity used since the begining.\n",
      "[codecarbon INFO @ 12:45:49] Energy consumed for RAM : 0.004357 kWh. RAM Power : 5.626379013061523 W\n",
      "[codecarbon INFO @ 12:45:49] Energy consumed for all CPUs : 0.000000 kWh. All CPUs Power : 0.0 W\n",
      "[codecarbon INFO @ 12:45:49] 0.004357 kWh of electricity used since the begining.\n",
      "[codecarbon INFO @ 12:46:04] Energy consumed for RAM : 0.004381 kWh. RAM Power : 5.626379013061523 W\n",
      "[codecarbon INFO @ 12:46:04] Energy consumed for all CPUs : 0.000000 kWh. All CPUs Power : 0.0 W\n",
      "[codecarbon INFO @ 12:46:04] 0.004381 kWh of electricity used since the begining.\n",
      "[codecarbon INFO @ 12:46:19] Energy consumed for RAM : 0.004404 kWh. RAM Power : 5.626379013061523 W\n",
      "[codecarbon INFO @ 12:46:19] Energy consumed for all CPUs : 0.000000 kWh. All CPUs Power : 0.0 W\n",
      "[codecarbon INFO @ 12:46:19] 0.004404 kWh of electricity used since the begining.\n",
      "[codecarbon INFO @ 12:46:34] Energy consumed for RAM : 0.004428 kWh. RAM Power : 5.626379013061523 W\n",
      "[codecarbon INFO @ 12:46:34] Energy consumed for all CPUs : 0.000000 kWh. All CPUs Power : 0.0 W\n",
      "[codecarbon INFO @ 12:46:34] 0.004428 kWh of electricity used since the begining.\n",
      "[codecarbon INFO @ 12:46:49] Energy consumed for RAM : 0.004451 kWh. RAM Power : 5.626379013061523 W\n",
      "[codecarbon INFO @ 12:46:49] Energy consumed for all CPUs : 0.000000 kWh. All CPUs Power : 0.0 W\n",
      "[codecarbon INFO @ 12:46:49] 0.004451 kWh of electricity used since the begining.\n",
      "[codecarbon INFO @ 12:47:04] Energy consumed for RAM : 0.004474 kWh. RAM Power : 5.626379013061523 W\n",
      "[codecarbon INFO @ 12:47:04] Energy consumed for all CPUs : 0.000000 kWh. All CPUs Power : 0.0 W\n",
      "[codecarbon INFO @ 12:47:04] 0.004474 kWh of electricity used since the begining.\n",
      "[codecarbon INFO @ 12:47:19] Energy consumed for RAM : 0.004498 kWh. RAM Power : 5.626379013061523 W\n"
>>>>>>> 636cd67f7afcd67c756ca3dc6a7543b971d7e850
     ]
    },
    {
     "name": "stderr",
     "output_type": "stream",
     "text": [
<<<<<<< HEAD
      "100%|███████████████████████████████████████████████████████████████████| 170498071/170498071 [00:01<00:00, 99670049.05it/s]\n"
     ]
    },
    {
     "name": "stdout",
     "output_type": "stream",
     "text": [
      "Extracting /home/korbinian/partial-model-merging/data/cifar-10-python.tar.gz to /home/korbinian/partial-model-merging/data\n",
      "Files already downloaded and verified\n"
=======
      "[codecarbon INFO @ 12:47:19] Energy consumed for all CPUs : 0.000000 kWh. All CPUs Power : 0.0 W\n",
      "[codecarbon INFO @ 12:47:19] 0.004498 kWh of electricity used since the begining.\n",
      "[codecarbon INFO @ 12:47:34] Energy consumed for RAM : 0.004521 kWh. RAM Power : 5.626379013061523 W\n",
      "[codecarbon INFO @ 12:47:34] Energy consumed for all CPUs : 0.000000 kWh. All CPUs Power : 0.0 W\n",
      "[codecarbon INFO @ 12:47:34] 0.004521 kWh of electricity used since the begining.\n",
      "[codecarbon INFO @ 12:47:49] Energy consumed for RAM : 0.004545 kWh. RAM Power : 5.626379013061523 W\n",
      "[codecarbon INFO @ 12:47:49] Energy consumed for all CPUs : 0.000000 kWh. All CPUs Power : 0.0 W\n",
      "[codecarbon INFO @ 12:47:49] 0.004545 kWh of electricity used since the begining.\n",
      "[codecarbon INFO @ 12:48:04] Energy consumed for RAM : 0.004568 kWh. RAM Power : 5.626379013061523 W\n",
      "[codecarbon INFO @ 12:48:04] Energy consumed for all CPUs : 0.000000 kWh. All CPUs Power : 0.0 W\n",
      "[codecarbon INFO @ 12:48:04] 0.004568 kWh of electricity used since the begining.\n",
      "[codecarbon INFO @ 12:48:19] Energy consumed for RAM : 0.004592 kWh. RAM Power : 5.626379013061523 W\n",
      "[codecarbon INFO @ 12:48:19] Energy consumed for all CPUs : 0.000000 kWh. All CPUs Power : 0.0 W\n",
      "[codecarbon INFO @ 12:48:19] 0.004592 kWh of electricity used since the begining.\n",
      "[codecarbon INFO @ 12:48:34] Energy consumed for RAM : 0.004615 kWh. RAM Power : 5.626379013061523 W\n",
      "[codecarbon INFO @ 12:48:34] Energy consumed for all CPUs : 0.000000 kWh. All CPUs Power : 0.0 W\n",
      "[codecarbon INFO @ 12:48:34] 0.004615 kWh of electricity used since the begining.\n"
>>>>>>> 636cd67f7afcd67c756ca3dc6a7543b971d7e850
     ]
    }
   ],
   "source": [
<<<<<<< HEAD
    "data_dir = os.path.join(root_dir, 'data')\n",
    "train_dset = torchvision.datasets.CIFAR10(data_dir, train=True, download=True)\n",
    "test_dset = torchvision.datasets.CIFAR10(data_dir, train=False, download=True)"
=======
    "tracker.final_emissions_data"
>>>>>>> 636cd67f7afcd67c756ca3dc6a7543b971d7e850
   ]
  },
  {
   "cell_type": "code",
   "execution_count": 6,
<<<<<<< HEAD
   "id": "7a95ab1a",
   "metadata": {},
   "outputs": [
    {
     "name": "stderr",
     "output_type": "stream",
     "text": [
      "100%|██████████████████████████████████████████████████████████████████████████████| 50000/50000 [00:02<00:00, 21507.46it/s]\n",
      "100%|██████████████████████████████████████████████████████████████████████████████| 10000/10000 [00:00<00:00, 11034.75it/s]\n"
     ]
    }
   ],
   "source": [
    "convert_dataset(train_dset, os.path.join(data_dir, 'cifar_train'))\n",
    "convert_dataset(test_dset, os.path.join(data_dir, 'cifar_test'))"
   ]
  },
  {
   "cell_type": "code",
   "execution_count": 16,
=======
>>>>>>> 636cd67f7afcd67c756ca3dc6a7543b971d7e850
   "id": "c477d1e9",
   "metadata": {},
   "outputs": [],
   "source": [
    "## a directory to save VGG checkpoints\n",
<<<<<<< HEAD
    "checkpoints_dir = os.path.join(root_dir, 'checkpoints/vgg/')\n",
    "os.makedirs(checkpoints_dir, exist_ok=True)\n",
    "\n",
    "def save_model(model, filename):\n",
    "    sd = model.state_dict()\n",
    "    torch.save(model.state_dict(), os.path.join(checkpoints_dir, filename))\n",
    "\n",
    "def load_model(model, filename):\n",
    "    sd = torch.load(os.path.join(checkpoints_dir, filename))\n",
=======
    "os.makedirs('./vgg', exist_ok=True)\n",
    "def save_model(model, i):\n",
    "    sd = model.state_dict()\n",
    "    torch.save(model.state_dict(), 'vgg/%s.pt' % i)\n",
    "\n",
    "def load_model(model, i):\n",
    "    sd = torch.load('vgg/%s.pt' % i)\n",
>>>>>>> 636cd67f7afcd67c756ca3dc6a7543b971d7e850
    "    model.load_state_dict(sd)"
   ]
  },
  {
   "cell_type": "code",
<<<<<<< HEAD
   "execution_count": 11,
=======
   "execution_count": 3,
>>>>>>> 636cd67f7afcd67c756ca3dc6a7543b971d7e850
   "id": "fabbc157",
   "metadata": {
    "scrolled": false
   },
   "outputs": [],
   "source": [
    "## CIFAR-10 dataloaders -- we use FFCV because it's fast\n",
    "from ffcv.fields import IntField, RGBImageField\n",
    "from ffcv.fields.decoders import IntDecoder, SimpleRGBImageDecoder\n",
    "from ffcv.loader import Loader, OrderOption\n",
    "from ffcv.transforms import RandomHorizontalFlip, Cutout, \\\n",
    "    RandomTranslate, Convert, ToDevice, ToTensor, ToTorchImage\n",
    "from ffcv.transforms.common import Squeeze\n",
    "\n",
    "CIFAR_MEAN = [125.307, 122.961, 113.8575]\n",
    "CIFAR_STD = [51.5865, 50.847, 51.255]\n",
    "\n",
    "## fast FFCV data loaders\n",
<<<<<<< HEAD
    "device = torch.device('cuda:0') \n",
=======
    "device = 'cuda:0' \n",
>>>>>>> 636cd67f7afcd67c756ca3dc6a7543b971d7e850
    "label_pipeline = [IntDecoder(), ToTensor(), ToDevice(device), Squeeze()]\n",
    "pre_p = [SimpleRGBImageDecoder()]\n",
    "post_p = [\n",
    "    ToTensor(),\n",
    "    ToDevice(device, non_blocking=True),\n",
    "    ToTorchImage(),\n",
    "    Convert(torch.float16),\n",
    "    T.Normalize(CIFAR_MEAN, CIFAR_STD),\n",
    "]\n",
    "aug_p = [\n",
    "    RandomHorizontalFlip(),\n",
    "    RandomTranslate(padding=4),\n",
    "]\n",
    "\n",
    "\n",
<<<<<<< HEAD
    "train_aug_loader = Loader(os.path.join(data_dir, 'cifar_train.beton'),\n",
    "                      batch_size=500,\n",
    "                      num_workers=min(8, os.cpu_count()),\n",
=======
    "train_aug_loader = Loader(f'/tmp/cifar_train.beton',\n",
    "                      batch_size=500,\n",
    "                      num_workers=8,\n",
>>>>>>> 636cd67f7afcd67c756ca3dc6a7543b971d7e850
    "                      order=OrderOption.RANDOM,\n",
    "                      drop_last=True,\n",
    "                      pipelines={'image': pre_p+aug_p+post_p,\n",
    "                                 'label': label_pipeline})\n",
<<<<<<< HEAD
    "train_noaug_loader = Loader(os.path.join(data_dir, 'cifar_train.beton'),\n",
    "                     batch_size=1000,\n",
    "                     num_workers=min(8, os.cpu_count()),\n",
=======
    "train_noaug_loader = Loader(f'/tmp/cifar_train.beton',\n",
    "                     batch_size=1000,\n",
    "                     num_workers=8,\n",
>>>>>>> 636cd67f7afcd67c756ca3dc6a7543b971d7e850
    "                     order=OrderOption.SEQUENTIAL,\n",
    "                     drop_last=False,\n",
    "                     pipelines={'image': pre_p+post_p,\n",
    "                                'label': label_pipeline})\n",
<<<<<<< HEAD
    "test_loader = Loader(os.path.join(data_dir, 'cifar_test.beton'),\n",
    "                     batch_size=1000,\n",
    "                     num_workers=min(8, os.cpu_count()),\n",
=======
    "test_loader = Loader(f'/tmp/cifar_test.beton',\n",
    "                     batch_size=1000,\n",
    "                     num_workers=8,\n",
>>>>>>> 636cd67f7afcd67c756ca3dc6a7543b971d7e850
    "                     order=OrderOption.SEQUENTIAL,\n",
    "                     drop_last=False,\n",
    "                     pipelines={'image': pre_p+post_p,\n",
    "                                'label': label_pipeline})"
   ]
  },
  {
   "cell_type": "code",
<<<<<<< HEAD
   "execution_count": 12,
=======
   "execution_count": 4,
>>>>>>> 636cd67f7afcd67c756ca3dc6a7543b971d7e850
   "id": "31e22780",
   "metadata": {},
   "outputs": [],
   "source": [
    "## evaluation functions\n",
    "# evaluates accuracy\n",
    "def evaluate(model, loader=test_loader):\n",
    "    model.eval()\n",
    "    correct = 0\n",
    "    with torch.no_grad(), autocast():\n",
    "        for inputs, labels in loader:\n",
    "            outputs = model(inputs.cuda())\n",
    "            pred = outputs.argmax(dim=1)\n",
    "            correct += (labels.cuda() == pred).sum().item()\n",
    "    return correct\n",
    "\n",
    "# evaluates acc and loss\n",
    "def evaluate2(model, loader=test_loader):\n",
    "    model.eval()\n",
    "    losses = []\n",
    "    correct = 0\n",
    "    total = 0\n",
    "    with torch.no_grad(), autocast():\n",
    "        for inputs, labels in loader:\n",
    "            outputs = model(inputs.cuda())\n",
    "            pred = outputs.argmax(dim=1)\n",
    "            correct += (labels.cuda() == pred).sum().item()\n",
    "            total += len(labels)\n",
    "            loss = F.cross_entropy(outputs, labels.cuda())\n",
    "            losses.append(loss.item())\n",
    "    return correct / total, np.array(losses).mean()\n",
    "\n",
    "def full_eval(model):\n",
    "    tr_acc, tr_loss = evaluate2(model, loader=train_noaug_loader)\n",
    "    te_acc, te_loss = evaluate2(model, loader=test_loader)\n",
    "    return '%.2f, %.3f, %.2f, %.3f' % (100*tr_acc, tr_loss, 100*te_acc, te_loss)"
   ]
  },
  {
   "cell_type": "markdown",
   "id": "e42cdbf3",
   "metadata": {},
   "source": [
    "## Train and save two models"
   ]
  },
  {
   "cell_type": "code",
<<<<<<< HEAD
   "execution_count": 13,
=======
   "execution_count": 5,
>>>>>>> 636cd67f7afcd67c756ca3dc6a7543b971d7e850
   "id": "51b6c738",
   "metadata": {},
   "outputs": [],
   "source": [
    "# https://github.com/kuangliu/pytorch-cifar/blob/master/models/vgg.py\n",
    "cfg = {\n",
    "    'VGG11': [64, 'M', 128, 'M', 256, 256, 'M', 512, 512, 'M', 512, 512, 'M'],\n",
    "    'VGG13': [64, 64, 'M', 128, 128, 'M', 256, 256, 'M', 512, 512, 'M', 512, 512, 'M'],\n",
    "    'VGG16': [64, 64, 'M', 128, 128, 'M', 256, 256, 256, 'M', 512, 512, 512, 'M', 512, 512, 512, 'M'],\n",
    "    'VGG19': [64, 64, 'M', 128, 128, 'M', 256, 256, 256, 256, 'M', 512, 512, 512, 512, 'M', 512, 512, 512, 512, 'M'],\n",
    "}\n",
    "\n",
    "class VGG(nn.Module):\n",
    "    def __init__(self, vgg_name, w=1, bn=False):\n",
    "        super(VGG, self).__init__()\n",
    "        self.vgg_name = vgg_name\n",
    "        self.bn = bn\n",
    "        self.w = w\n",
    "        self.features = self._make_layers(cfg[vgg_name])\n",
    "        self.classifier = nn.Linear(self.w*512, 10)\n",
    "\n",
    "    def forward(self, x):\n",
    "        out = self.features(x)\n",
    "        out = out.view(out.size(0), -1)\n",
    "        out = self.classifier(out)\n",
    "        return out\n",
    "\n",
    "    def _make_layers(self, cfg):\n",
    "        layers = []\n",
    "        in_channels = 3\n",
    "        for x in cfg:\n",
    "            if x == 'M':\n",
    "                layers += [nn.MaxPool2d(kernel_size=2, stride=2)]\n",
    "            else:\n",
    "                layers.append(nn.Conv2d(in_channels if in_channels == 3 else self.w*in_channels,\n",
    "                                     self.w*x, kernel_size=3, padding=1))\n",
    "                if self.bn:\n",
    "                    layers.append(nn.BatchNorm2d(self.w*x))\n",
    "                layers.append(nn.ReLU(inplace=True))\n",
    "                in_channels = x\n",
    "        layers += [nn.AvgPool2d(kernel_size=1, stride=1)]\n",
    "        return nn.Sequential(*layers)"
   ]
  },
  {
   "cell_type": "code",
<<<<<<< HEAD
   "execution_count": 14,
=======
   "execution_count": 6,
>>>>>>> 636cd67f7afcd67c756ca3dc6a7543b971d7e850
   "id": "35050c3f",
   "metadata": {},
   "outputs": [],
   "source": [
    "def train_model(w=1):\n",
    "    model = VGG('VGG11', w=w).cuda()\n",
    "    optimizer = SGD(model.parameters(), lr=0.08, momentum=0.9, weight_decay=5e-4)\n",
    "\n",
    "    EPOCHS = 100\n",
    "    ne_iters = len(train_aug_loader)\n",
    "    lr_schedule = np.interp(np.arange(1+EPOCHS*ne_iters), [0, 5*ne_iters, EPOCHS*ne_iters], [0, 1, 0])\n",
    "    scheduler = lr_scheduler.LambdaLR(optimizer, lr_schedule.__getitem__)\n",
    "\n",
    "    scaler = GradScaler()\n",
    "    loss_fn = CrossEntropyLoss()\n",
    "\n",
    "    losses = []\n",
    "    for epoch in tqdm(range(EPOCHS)):\n",
    "        model.train()\n",
    "        for i, (inputs, labels) in enumerate(train_aug_loader):\n",
    "            optimizer.zero_grad(set_to_none=True)\n",
    "            with autocast():\n",
    "                outputs = model(inputs.cuda())\n",
    "                loss = loss_fn(outputs, labels.cuda())\n",
    "            scaler.scale(loss).backward()\n",
    "            scaler.step(optimizer)\n",
    "            scaler.update()\n",
    "            scheduler.step()\n",
    "            losses.append(loss.item())\n",
    "    return model"
   ]
  },
  {
   "cell_type": "code",
<<<<<<< HEAD
   "execution_count": 17,
=======
   "execution_count": 7,
>>>>>>> 636cd67f7afcd67c756ca3dc6a7543b971d7e850
   "id": "8a972049",
   "metadata": {},
   "outputs": [
    {
     "name": "stderr",
     "output_type": "stream",
     "text": [
<<<<<<< HEAD
      "100%|█████████████████████████████████████████████████████████████████████████████████████| 100/100 [05:31<00:00,  3.31s/it]\n"
=======
      "100%|███████████████████████████████████████████████████████████████████████████████████████████████████████████████████████████████████████████████████████████████| 100/100 [03:50<00:00,  2.31s/it]\n"
>>>>>>> 636cd67f7afcd67c756ca3dc6a7543b971d7e850
     ]
    },
    {
     "name": "stdout",
     "output_type": "stream",
     "text": [
<<<<<<< HEAD
      "8944\n"
=======
      "9045\n"
>>>>>>> 636cd67f7afcd67c756ca3dc6a7543b971d7e850
     ]
    },
    {
     "name": "stderr",
     "output_type": "stream",
     "text": [
<<<<<<< HEAD
      "100%|█████████████████████████████████████████████████████████████████████████████████████| 100/100 [05:37<00:00,  3.37s/it]\n"
=======
      "100%|███████████████████████████████████████████████████████████████████████████████████████████████████████████████████████████████████████████████████████████████| 100/100 [03:48<00:00,  2.29s/it]\n"
>>>>>>> 636cd67f7afcd67c756ca3dc6a7543b971d7e850
     ]
    },
    {
     "name": "stdout",
     "output_type": "stream",
     "text": [
<<<<<<< HEAD
      "8919\n"
=======
      "9016\n"
>>>>>>> 636cd67f7afcd67c756ca3dc6a7543b971d7e850
     ]
    }
   ],
   "source": [
<<<<<<< HEAD
    "w = 1\n",
    "model = train_model(w)\n",
    "print(evaluate(model))\n",
    "save_model(model, f'vgg11x{w}_v1b.pt')\n",
    "\n",
    "model = train_model(w)\n",
    "print(evaluate(model))\n",
    "save_model(model, f'vgg11x{w}_v2b.pt')"
=======
    "w = 2\n",
    "model = train_model(w)\n",
    "print(evaluate(model))\n",
    "save_model(model, 'vgg11x%d_v1b' % w)\n",
    "\n",
    "model = train_model(w)\n",
    "print(evaluate(model))\n",
    "save_model(model, 'vgg11x%d_v2b' % w)"
>>>>>>> 636cd67f7afcd67c756ca3dc6a7543b971d7e850
   ]
  },
  {
   "cell_type": "markdown",
   "id": "a25cacbb",
   "metadata": {},
   "source": [
    "### matching code"
   ]
  },
  {
   "cell_type": "code",
<<<<<<< HEAD
   "execution_count": 18,
=======
   "execution_count": 8,
>>>>>>> 636cd67f7afcd67c756ca3dc6a7543b971d7e850
   "id": "363e68ea",
   "metadata": {},
   "outputs": [],
   "source": [
    "# given two networks net0, net1 which each output a feature map of shape NxCxWxH\n",
    "# this will reshape both outputs to (N*W*H)xC\n",
    "# and then compute a CxC correlation matrix between the outputs of the two networks\n",
    "def run_corr_matrix(net0, net1, epochs=1, norm=True, loader=train_aug_loader):\n",
    "    n = epochs*len(loader)\n",
    "    mean0 = mean1 = std0 = std1 = None\n",
    "    with torch.no_grad():\n",
    "        net0.eval()\n",
    "        net1.eval()\n",
    "        for _ in range(epochs):\n",
    "            for i, (images, _) in enumerate(tqdm(loader)):\n",
    "                img_t = images.float().cuda()\n",
    "                out0 = net0(img_t)\n",
    "                out0 = out0.reshape(out0.shape[0], out0.shape[1], -1).permute(0, 2, 1)\n",
    "                out0 = out0.reshape(-1, out0.shape[2]).double()\n",
    "\n",
    "                out1 = net1(img_t)\n",
    "                out1 = out1.reshape(out1.shape[0], out1.shape[1], -1).permute(0, 2, 1)\n",
    "                out1 = out1.reshape(-1, out1.shape[2]).double()\n",
    "\n",
    "                mean0_b = out0.mean(dim=0)\n",
    "                mean1_b = out1.mean(dim=0)\n",
    "                std0_b = out0.std(dim=0)\n",
    "                std1_b = out1.std(dim=0)\n",
    "                outer_b = (out0.T @ out1) / out0.shape[0]\n",
    "\n",
    "                if i == 0:\n",
    "                    mean0 = torch.zeros_like(mean0_b)\n",
    "                    mean1 = torch.zeros_like(mean1_b)\n",
    "                    std0 = torch.zeros_like(std0_b)\n",
    "                    std1 = torch.zeros_like(std1_b)\n",
    "                    outer = torch.zeros_like(outer_b)\n",
    "                mean0 += mean0_b / n\n",
    "                mean1 += mean1_b / n\n",
    "                std0 += std0_b / n\n",
    "                std1 += std1_b / n\n",
    "                outer += outer_b / n\n",
    "\n",
    "    cov = outer - torch.outer(mean0, mean1)\n",
    "    if norm:\n",
    "        corr = cov / (torch.outer(std0, std1) + 1e-4)\n",
    "        return corr\n",
    "    else:\n",
    "        return cov"
   ]
  },
  {
   "cell_type": "code",
<<<<<<< HEAD
   "execution_count": 19,
=======
   "execution_count": 9,
>>>>>>> 636cd67f7afcd67c756ca3dc6a7543b971d7e850
   "id": "1f9ef263",
   "metadata": {},
   "outputs": [],
   "source": [
    "def get_layer_perm1(corr_mtx):\n",
    "    corr_mtx_a = corr_mtx.cpu().numpy()\n",
    "    row_ind, col_ind = scipy.optimize.linear_sum_assignment(corr_mtx_a, maximize=True)\n",
    "    assert (row_ind == np.arange(len(corr_mtx_a))).all()\n",
    "    perm_map = torch.tensor(col_ind).long()\n",
    "    return perm_map\n",
    "\n",
    "# returns the channel-permutation to make layer1's activations most closely\n",
    "# match layer0's.\n",
    "def get_layer_perm(net0, net1):\n",
    "    corr_mtx = run_corr_matrix(net0, net1)\n",
    "    return get_layer_perm1(corr_mtx)"
   ]
  },
  {
   "cell_type": "code",
<<<<<<< HEAD
   "execution_count": 20,
=======
   "execution_count": 10,
>>>>>>> 636cd67f7afcd67c756ca3dc6a7543b971d7e850
   "id": "f1aae9be",
   "metadata": {},
   "outputs": [],
   "source": [
    "# modifies the weight matrices of a convolution and batchnorm\n",
    "# layer given a permutation of the output channels\n",
    "def permute_output(perm_map, conv, bn):\n",
    "    pre_weights = [\n",
    "        conv.weight,\n",
    "    ]\n",
    "    if conv.bias is not None:\n",
    "        pre_weights.append(conv.bias)\n",
    "    if bn is not None:\n",
    "        pre_weights.extend([\n",
    "            bn.weight,\n",
    "            bn.bias,\n",
    "            bn.running_mean,\n",
    "            bn.running_var,\n",
    "        ])\n",
    "    for w in pre_weights:\n",
    "        w.data = w[perm_map]\n",
    "\n",
    "# modifies the weight matrix of a layer for a given permutation of the input channels\n",
    "# works for both conv2d and linear\n",
    "def permute_input(perm_map, layer):\n",
    "    w = layer.weight\n",
    "    w.data = w[:, perm_map]"
   ]
  },
  {
   "cell_type": "markdown",
   "id": "09c8b84a",
   "metadata": {},
   "source": [
    "# Find neuron-permutation for each layer"
   ]
  },
  {
   "cell_type": "code",
<<<<<<< HEAD
   "execution_count": 22,
=======
   "execution_count": 11,
>>>>>>> 636cd67f7afcd67c756ca3dc6a7543b971d7e850
   "id": "c0db278e",
   "metadata": {
    "scrolled": true
   },
   "outputs": [
    {
     "data": {
      "text/plain": [
<<<<<<< HEAD
       "(8944, 8919)"
      ]
     },
     "execution_count": 22,
=======
       "(9045, 9016)"
      ]
     },
     "execution_count": 11,
>>>>>>> 636cd67f7afcd67c756ca3dc6a7543b971d7e850
     "metadata": {},
     "output_type": "execute_result"
    }
   ],
   "source": [
    "model0 = VGG('VGG11', w=w).cuda()\n",
    "model1 = VGG('VGG11', w=w).cuda()\n",
<<<<<<< HEAD
    "load_model(model0, f'vgg11x{w}_v1b.pt')\n",
    "load_model(model1, f'vgg11x{w}_v2b.pt')\n",
=======
    "load_model(model0, 'vgg11x%d_v1b' % w)\n",
    "load_model(model1, 'vgg11x%d_v2b' % w)\n",
>>>>>>> 636cd67f7afcd67c756ca3dc6a7543b971d7e850
    "\n",
    "evaluate(model0), evaluate(model1)"
   ]
  },
  {
   "cell_type": "markdown",
   "id": "fbb660be",
   "metadata": {},
   "source": [
    "## Permuting neurons in model1 to match model0"
   ]
  },
  {
   "cell_type": "code",
<<<<<<< HEAD
   "execution_count": 23,
=======
   "execution_count": 12,
>>>>>>> 636cd67f7afcd67c756ca3dc6a7543b971d7e850
   "id": "0a5f5fa8",
   "metadata": {
    "scrolled": false
   },
   "outputs": [
    {
     "name": "stderr",
     "output_type": "stream",
     "text": [
<<<<<<< HEAD
      "100%|█████████████████████████████████████████████████████████████████████████████████████| 100/100 [00:03<00:00, 25.69it/s]\n",
      "100%|█████████████████████████████████████████████████████████████████████████████████████| 100/100 [00:04<00:00, 21.75it/s]\n",
      "100%|█████████████████████████████████████████████████████████████████████████████████████| 100/100 [00:05<00:00, 19.78it/s]\n",
      "100%|█████████████████████████████████████████████████████████████████████████████████████| 100/100 [00:06<00:00, 15.24it/s]\n",
      "100%|█████████████████████████████████████████████████████████████████████████████████████| 100/100 [00:07<00:00, 12.95it/s]\n",
      "100%|█████████████████████████████████████████████████████████████████████████████████████| 100/100 [00:09<00:00, 10.56it/s]\n",
      "100%|█████████████████████████████████████████████████████████████████████████████████████| 100/100 [00:08<00:00, 12.42it/s]\n",
      "100%|█████████████████████████████████████████████████████████████████████████████████████| 100/100 [00:08<00:00, 11.73it/s]\n"
=======
      "100%|███████████████████████████████████████████████████████████████████████████████████████████████████████████████████████████████████████████████████████████████| 100/100 [00:01<00:00, 98.83it/s]\n",
      "100%|███████████████████████████████████████████████████████████████████████████████████████████████████████████████████████████████████████████████████████████████| 100/100 [00:01<00:00, 91.59it/s]\n",
      "100%|███████████████████████████████████████████████████████████████████████████████████████████████████████████████████████████████████████████████████████████████| 100/100 [00:01<00:00, 66.84it/s]\n",
      "100%|███████████████████████████████████████████████████████████████████████████████████████████████████████████████████████████████████████████████████████████████| 100/100 [00:01<00:00, 55.73it/s]\n",
      "100%|███████████████████████████████████████████████████████████████████████████████████████████████████████████████████████████████████████████████████████████████| 100/100 [00:02<00:00, 49.34it/s]\n",
      "100%|███████████████████████████████████████████████████████████████████████████████████████████████████████████████████████████████████████████████████████████████| 100/100 [00:02<00:00, 45.00it/s]\n",
      "100%|███████████████████████████████████████████████████████████████████████████████████████████████████████████████████████████████████████████████████████████████| 100/100 [00:02<00:00, 38.80it/s]\n",
      "100%|███████████████████████████████████████████████████████████████████████████████████████████████████████████████████████████████████████████████████████████████| 100/100 [00:02<00:00, 41.65it/s]\n"
>>>>>>> 636cd67f7afcd67c756ca3dc6a7543b971d7e850
     ]
    }
   ],
   "source": [
    "def subnet(model, n_layers):\n",
    "    return model.features[:n_layers]\n",
    "\n",
    "feats1 = model1.features\n",
    "\n",
    "n = len(feats1)\n",
    "for i in range(n):\n",
    "    layer = feats1[i]\n",
    "    if isinstance(layer, nn.Conv2d):\n",
    "        # get permutation and permute output of conv and maybe bn\n",
    "        if isinstance(feats1[i+1], nn.BatchNorm2d):\n",
    "            assert isinstance(feats1[i+2], nn.ReLU)\n",
    "            perm_map = get_layer_perm(subnet(model0, i+3), subnet(model1, i+3))\n",
    "            permute_output(perm_map, feats1[i], feats1[i+1])\n",
    "        else:\n",
    "            assert isinstance(feats1[i+1], nn.ReLU)\n",
    "            perm_map = get_layer_perm(subnet(model0, i+2), subnet(model1, i+2))\n",
    "            permute_output(perm_map, feats1[i], None)\n",
    "        # look for succeeding layer to permute input\n",
    "        next_layer = None\n",
    "        for j in range(i+1, n):\n",
    "            if isinstance(feats1[j], nn.Conv2d):\n",
    "                next_layer = feats1[j]\n",
    "                break\n",
    "        if next_layer is None:\n",
    "            next_layer = model1.classifier\n",
    "        permute_input(perm_map, next_layer)"
   ]
  },
  {
   "cell_type": "markdown",
   "id": "1d4b4d80",
   "metadata": {},
   "source": [
    "### Save permuted weights"
   ]
  },
  {
   "cell_type": "code",
<<<<<<< HEAD
   "execution_count": 24,
=======
   "execution_count": 13,
>>>>>>> 636cd67f7afcd67c756ca3dc6a7543b971d7e850
   "id": "3112ee07",
   "metadata": {
    "scrolled": true
   },
   "outputs": [
    {
     "name": "stdout",
     "output_type": "stream",
     "text": [
<<<<<<< HEAD
      "8917\n"
=======
      "9015\n"
>>>>>>> 636cd67f7afcd67c756ca3dc6a7543b971d7e850
     ]
    }
   ],
   "source": [
    "# ensure accuracy didn't change\n",
    "# (it may be slightly different due to non-associativity of floating point arithmetic)\n",
    "print(evaluate(model1))\n",
<<<<<<< HEAD
    "save_model(model1, f'vgg11x{w}_v2b_perm1b.pt')"
=======
    "save_model(model1, 'vgg11x%d_v2b_perm1b' % w)"
>>>>>>> 636cd67f7afcd67c756ca3dc6a7543b971d7e850
   ]
  },
  {
   "cell_type": "markdown",
   "id": "bc494077",
   "metadata": {},
   "source": [
    "## Evaluate the interpolated network"
   ]
  },
  {
   "cell_type": "code",
<<<<<<< HEAD
   "execution_count": 33,
=======
   "execution_count": 14,
>>>>>>> 636cd67f7afcd67c756ca3dc6a7543b971d7e850
   "id": "1a7ae6a7",
   "metadata": {},
   "outputs": [],
   "source": [
    "def mix_weights(model, alpha, key0, key1):\n",
<<<<<<< HEAD
    "    sd0 = torch.load(os.path.join(checkpoints_dir, f'{key0}.pt'))\n",
    "    sd1 = torch.load(os.path.join(checkpoints_dir, f'{key1}.pt'))\n",
=======
    "    sd0 = torch.load('vgg/%s.pt' % key0)\n",
    "    sd1 = torch.load('vgg/%s.pt' % key1)\n",
>>>>>>> 636cd67f7afcd67c756ca3dc6a7543b971d7e850
    "    sd_alpha = {k: (1 - alpha) * sd0[k].cuda() + alpha * sd1[k].cuda()\n",
    "                for k in sd0.keys()}\n",
    "    model.load_state_dict(sd_alpha)\n",
    "\n",
    "# use the train loader with data augmentation as this gives better results\n",
    "def reset_bn_stats(model, epochs=1, loader=train_aug_loader):\n",
    "    # resetting stats to baseline first as below is necessary for stability\n",
    "    for m in model.modules():\n",
    "        if type(m) == nn.BatchNorm2d:\n",
    "            m.momentum = None # use simple average\n",
    "            m.reset_running_stats()\n",
    "    # run a single train epoch with augmentations to recalc stats\n",
    "    model.train()\n",
    "    for _ in range(epochs):\n",
    "        with torch.no_grad(), autocast():\n",
    "            for images, _ in loader:\n",
    "                output = model(images.cuda())"
   ]
  },
  {
   "cell_type": "code",
<<<<<<< HEAD
   "execution_count": 34,
=======
   "execution_count": 22,
>>>>>>> 636cd67f7afcd67c756ca3dc6a7543b971d7e850
   "id": "19b83991",
   "metadata": {
    "scrolled": false
   },
   "outputs": [
    {
     "name": "stdout",
     "output_type": "stream",
     "text": [
<<<<<<< HEAD
      "77.45, 0.851, 74.02, 0.920\n"
=======
      "77.59, 0.815, 73.12, 0.904\n"
>>>>>>> 636cd67f7afcd67c756ca3dc6a7543b971d7e850
     ]
    }
   ],
   "source": [
    "model_a = VGG('VGG11', w=w).cuda()\n",
    "mix_weights(model_a, 0.5, 'vgg11x%d_v1b' % w, 'vgg11x%d_v2b_perm1b' % w)\n",
    "print(full_eval(model_a))"
   ]
  },
  {
   "cell_type": "markdown",
   "id": "6e06da3f",
   "metadata": {},
   "source": [
    "## Diagnosing the problem: measuring unitwise variances\n",
    "\n",
    "The interpolated network got 70% train accuracy -- not very good, much worse than the endpoints which get over 90%. Why does this happen?\n",
    "\n",
    "(We find that) in later layers of the interpolated network, the variance of hidden units has \"collapsed\", relative to the variance of the same hidden units in the original/parent/endpoint networks."
   ]
  },
  {
   "cell_type": "code",
<<<<<<< HEAD
   "execution_count": 35,
=======
   "execution_count": 23,
>>>>>>> 636cd67f7afcd67c756ca3dc6a7543b971d7e850
   "id": "860f4a42",
   "metadata": {},
   "outputs": [],
   "source": [
    "inputs, _ = next(iter(train_aug_loader))"
   ]
  },
  {
   "cell_type": "code",
<<<<<<< HEAD
   "execution_count": 36,
=======
   "execution_count": 24,
>>>>>>> 636cd67f7afcd67c756ca3dc6a7543b971d7e850
   "id": "871893bc",
   "metadata": {},
   "outputs": [
    {
     "data": {
<<<<<<< HEAD
      "image/png": "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",
      "text/plain": [
       "<Figure size 640x480 with 1 Axes>"
      ]
     },
     "metadata": {},
=======
      "image/png": "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\n",
      "text/plain": [
       "<Figure size 432x288 with 1 Axes>"
      ]
     },
     "metadata": {
      "needs_background": "light"
     },
>>>>>>> 636cd67f7afcd67c756ca3dc6a7543b971d7e850
     "output_type": "display_data"
    }
   ],
   "source": [
    "# returns (vv0, vva, vv1)\n",
    "# where vv0 is a list of layerwise variances (as defined in paper)\n",
    "# for model0 (alpha=0.0)\n",
    "# and vva is the same for the midpoint (alpha=0.5)\n",
    "# and vv1 for model1 (alpha=1.0)\n",
    "def get_layerwise_vars(k0, k1):\n",
    "    vvs = []\n",
    "    for alpha in [0, 0.5, 1]:\n",
    "        mix_weights(model_a, alpha, k0, k1)\n",
    "        vv = []\n",
    "        for i in [1, 4, 7, 9, 12, 14, 17, 19]:\n",
    "#         for i in [2, 5, 8, 10, 13, 15, 18, 20]:\n",
    "            subnet = model_a.features[:i]\n",
    "            with torch.no_grad(), autocast():\n",
    "                out = subnet(inputs)\n",
    "            out = out.permute(1, 0, 2, 3).reshape(out.size(1), -1)\n",
    "            avg_var = out.var(1).mean()\n",
    "            vv.append(avg_var.item())\n",
    "        vvs.append(np.array(vv))\n",
    "    vv0, vva, vv1 = vvs\n",
    "    return vv0, vva, vv1\n",
    "\n",
    "# returns a list of ratios between the variance of\n",
    "# the weight-interpolation midpoint and the averaged variances\n",
    "# of the two endpoints.\n",
    "def get_layerwise_ratios(k0, k1):\n",
    "    vv0, vva, vv1 = get_layerwise_vars(k0, k1)\n",
    "    vv00 = (vv0+vv1)/2\n",
    "    rr = vva/vv0\n",
    "    return rr\n",
    "\n",
    "k0 = 'vgg11x%d_v1b' % w\n",
    "k1 = 'vgg11x%d_v2b' % w\n",
    "rr1 = get_layerwise_ratios(k0, k1)\n",
    "\n",
    "k0 = 'vgg11x%d_v1b' % w\n",
    "k1 = 'vgg11x%d_v2b_perm1b' % w\n",
    "rr2 = get_layerwise_ratios(k0, k1)\n",
    "\n",
    "plt.plot(rr1, label='Without neuron matching')\n",
    "plt.plot(rr2, label='With neuron matching')\n",
    "# plt.yscale('log')\n",
    "plt.ylim([0, 1])\n",
    "plt.xlabel('Layer index')\n",
    "plt.title('VGG11 layerwise variance ratios')\n",
    "plt.ylabel('$\\\\dfrac{\\\\sigma_{0.5}}{(\\\\sigma_0 + \\\\sigma_1)/2}$')\n",
    "plt.legend()\n",
    "plt.show()"
   ]
  },
  {
   "cell_type": "markdown",
   "id": "89396da3",
   "metadata": {},
   "source": [
    "## Solving the problem: Activation Renormalization\n",
    "\n",
    "We introduce a rescaling of each neuron's preactivation in the interpolated network, such that the statistics of each neuron are set to be similar to those of the endpoint networks. Practically, this is accomplished by the temporary introduction of PyTorch nn.BatchNorm2d layers, which are then \"fused\" back into the preceding convolutions."
   ]
  },
  {
   "cell_type": "code",
<<<<<<< HEAD
   "execution_count": 37,
=======
   "execution_count": 25,
>>>>>>> 636cd67f7afcd67c756ca3dc6a7543b971d7e850
   "id": "4ff057c6",
   "metadata": {},
   "outputs": [],
   "source": [
    "class ResetConv(nn.Module):\n",
    "    def __init__(self, conv):\n",
    "        super().__init__()\n",
    "        self.h = h = conv.out_channels\n",
    "        self.conv = conv\n",
    "        self.bn = nn.BatchNorm2d(h)\n",
    "        self.rescale = False\n",
    "        \n",
    "    def set_stats(self, goal_mean, goal_var):\n",
    "        self.bn.bias.data = goal_mean\n",
    "        goal_std = (goal_var + 1e-5).sqrt()\n",
    "        self.bn.weight.data = goal_std\n",
    "        \n",
    "    def forward(self, x):\n",
    "        x = self.conv(x)\n",
    "        if self.rescale:\n",
    "            x = self.bn(x)\n",
    "        else:\n",
    "            self.bn(x)\n",
    "        return x\n",
    "\n",
    "def make_tracked_net(net, w):\n",
    "    net1 = VGG('VGG11', w=w).cuda()\n",
    "    net1.load_state_dict(net.state_dict())\n",
    "    feats1 = net1.features\n",
    "    for i, layer in enumerate(feats1):\n",
    "        if isinstance(layer, nn.Conv2d):\n",
    "            feats1[i] = ResetConv(layer)\n",
    "    return net1.cuda().eval()\n",
    "\n",
    "def fuse_conv_bn(conv, bn):\n",
    "    fused = torch.nn.Conv2d(\n",
    "        conv.in_channels,\n",
    "        conv.out_channels,\n",
    "        kernel_size=conv.kernel_size,\n",
    "        stride=conv.stride,\n",
    "        padding=conv.padding,\n",
    "        bias=True,\n",
    "    )\n",
    "\n",
    "    # setting weights\n",
    "    w_conv = conv.weight.clone()\n",
    "    bn_std = (bn.eps + bn.running_var).sqrt()\n",
    "    gamma = bn.weight / bn_std\n",
    "    fused.weight.data = (w_conv * gamma.reshape(-1, 1, 1, 1))\n",
    "\n",
    "    # setting bias\n",
    "    b_conv = conv.bias if conv.bias is not None else torch.zeros_like(bn.bias)\n",
    "    beta = bn.bias + gamma * (-bn.running_mean + b_conv)\n",
    "    fused.bias.data = beta\n",
    "    \n",
    "    return fused\n",
    "\n",
    "def fuse_tracked_net(net, w):\n",
    "    net1 = VGG('VGG11', w=w).cuda()\n",
    "    feats1 = net1.features\n",
    "    for i, layer in enumerate(net.features):\n",
    "        if isinstance(layer, ResetConv):\n",
    "            conv = fuse_conv_bn(layer.conv, layer.bn)\n",
    "            feats1[i].load_state_dict(conv.state_dict())\n",
    "    net1.classifier.load_state_dict(net.classifier.state_dict())\n",
    "    return net1"
   ]
  },
  {
   "cell_type": "code",
<<<<<<< HEAD
   "execution_count": 38,
=======
   "execution_count": 26,
>>>>>>> 636cd67f7afcd67c756ca3dc6a7543b971d7e850
   "id": "2b8f5931",
   "metadata": {},
   "outputs": [
    {
     "name": "stdout",
     "output_type": "stream",
     "text": [
      "train_acc, train_loss, test_acc, test_loss...\n",
<<<<<<< HEAD
      "(α=0.0) 99.85, 0.006, 89.44, 0.510\n",
      "(α=0.5) 77.45, 0.851, 74.02, 0.920\n",
      "(α=1.0) 99.89, 0.005, 89.17, 0.502\n"
=======
      "(α=0.0) 100.00, 0.002, 90.45, 0.449\n",
      "(α=0.5) 77.59, 0.815, 73.12, 0.904\n",
      "(α=1.0) 99.98, 0.002, 90.15, 0.446\n"
>>>>>>> 636cd67f7afcd67c756ca3dc6a7543b971d7e850
     ]
    }
   ],
   "source": [
    "model0 = VGG('VGG11', w).cuda()\n",
    "model_a = VGG('VGG11', w).cuda()\n",
    "model1 = VGG('VGG11', w).cuda()\n",
    "\n",
    "k0 = 'vgg11x%d_v1b' % w\n",
    "k1 = 'vgg11x%d_v2b_perm1b' % w\n",
    "mix_weights(model0, 0.0, k0, k1)\n",
    "mix_weights(model_a, 0.5, k0, k1)\n",
    "mix_weights(model1, 1.0, k0, k1)\n",
    "\n",
    "print('train_acc, train_loss, test_acc, test_loss...')\n",
    "print('(α=0.0)', full_eval(model0))\n",
    "print('(α=0.5)', full_eval(model_a))\n",
    "print('(α=1.0)', full_eval(model1))"
   ]
  },
  {
   "cell_type": "code",
<<<<<<< HEAD
   "execution_count": 39,
=======
   "execution_count": 27,
>>>>>>> 636cd67f7afcd67c756ca3dc6a7543b971d7e850
   "id": "80f95d1a",
   "metadata": {},
   "outputs": [],
   "source": [
    "## calculate the statistics of every hidden unit in the endpoint networks\n",
    "## this is done practically using PyTorch BatchNorm2d layers.\n",
    "wrap0 = make_tracked_net(model0, w=w)\n",
    "wrap1 = make_tracked_net(model1, w=w)\n",
    "reset_bn_stats(wrap0)\n",
    "reset_bn_stats(wrap1)\n",
    "\n",
    "wrap_a = make_tracked_net(model_a, w=w)\n",
    "## set the goal mean/std in added bns of interpolated network, and turn batch renormalization on\n",
    "for m0, m_a, m1 in zip(wrap0.modules(), wrap_a.modules(), wrap1.modules()):\n",
    "    if not isinstance(m0, ResetConv):\n",
    "        continue\n",
    "    # get goal statistics -- interpolate the mean and std of parent networks\n",
    "    mu0 = m0.bn.running_mean\n",
    "    mu1 = m1.bn.running_mean\n",
    "    goal_mean = (mu0 + mu1)/2\n",
    "    var0 = m0.bn.running_var\n",
    "    var1 = m1.bn.running_var\n",
    "    goal_var = ((var0.sqrt() + var1.sqrt())/2).square()\n",
    "    # set these in the interpolated bn controller\n",
    "    m_a.set_stats(goal_mean, goal_var)\n",
    "    # turn rescaling on\n",
    "    m_a.rescale = True\n",
    "    \n",
    "# reset the tracked mean/var and fuse rescalings back into conv layers \n",
    "reset_bn_stats(wrap_a)\n",
    "# fuse the rescaling+shift coefficients back into conv layers\n",
    "model_b = fuse_tracked_net(wrap_a, w)"
   ]
  },
  {
   "cell_type": "code",
<<<<<<< HEAD
   "execution_count": 40,
=======
   "execution_count": 28,
>>>>>>> 636cd67f7afcd67c756ca3dc6a7543b971d7e850
   "id": "d8a00564",
   "metadata": {},
   "outputs": [
    {
     "name": "stdout",
     "output_type": "stream",
     "text": [
<<<<<<< HEAD
      "(α=0.5 corrected) 90.79, 0.297, 84.56, 0.628\n"
=======
      "(α=0.5 corrected) 94.42, 0.167, 86.56, 0.533\n"
>>>>>>> 636cd67f7afcd67c756ca3dc6a7543b971d7e850
     ]
    }
   ],
   "source": [
    "print('(α=0.5 corrected)', full_eval(model_b))"
   ]
  },
  {
   "cell_type": "code",
   "execution_count": null,
   "id": "529f9fd9",
   "metadata": {},
   "outputs": [],
   "source": []
  },
  {
   "cell_type": "code",
   "execution_count": null,
   "id": "9fa1693a",
   "metadata": {},
   "outputs": [],
   "source": []
  }
 ],
 "metadata": {
  "kernelspec": {
   "display_name": "Python 3 (ipykernel)",
   "language": "python",
   "name": "python3"
  },
  "language_info": {
   "codemirror_mode": {
    "name": "ipython",
    "version": 3
   },
   "file_extension": ".py",
   "mimetype": "text/x-python",
   "name": "python",
   "nbconvert_exporter": "python",
   "pygments_lexer": "ipython3",
   "version": "3.10.6"
  }
 },
 "nbformat": 4,
 "nbformat_minor": 5
}
