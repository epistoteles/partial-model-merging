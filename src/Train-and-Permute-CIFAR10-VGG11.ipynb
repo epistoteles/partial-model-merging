{
 "cells": [
  {
   "cell_type": "markdown",
   "id": "9021242c",
   "metadata": {},
   "source": [
    "# Train-and-Permute-CIFAR10-VGG11\n",
    "\n",
    "This notebook executes the following:\n",
    "\n",
    "1. We train two normalization-free, 2x width VGG11 networks, calling them model0 and model1.\n",
    "2. We compute a set of permutations which align the neurons of model1 with those of model0. We use a correlation-based method which goes back to https://arxiv.org/abs/1511.07543.\n",
    "3. We evaluate the accuracy of the interpolation between model0 and the neuron-permuted version of model1. It's not very good -- accuracy drops from ~90% at the \"endpoint\" networks to ~73% at the midpoint.\n",
    "4. We investigate the cause of this drop. We find that the later hidden units of the interpolated network have \"collapsed variance\".\n",
    "5. We introduce a method of correcting for this phenomenon: For each unit in the interpolated network, we rescale it such that its statistics are similar to those of the parent/endpoint networks.\n",
    "6. We re-evaluate the interpolated network after this correction has been applied, and find that it gets 86.5% test accuracy. So the gap / \"barrier\" has shrunk from 90-73 = 17% to only ~4%. The barrier in terms of test loss is also below 0.1 after correction.\n",
    "\n",
    "We also note that the idea of resetting the BatchNorm statistics of interpolated networks goes at least back to https://arxiv.org/abs/1803.05407. The method we introduce here can be thought of as a generalization of BatchNorm-reset to networks which don't use BatchNorm!\n",
    "\n",
    "For some comparable numbers we can look at the VGG curve of Figure 4 in Git Re-Basin (https://arxiv.org/abs/2209.04836). The authors use a permutation-only method with LayerNorm-based networks, and report a test loss barrier of ~0.25 for 2x-width VGG-16."
   ]
  },
  {
   "cell_type": "code",
   "execution_count": 1,
   "id": "c0db779d",
   "metadata": {},
   "outputs": [],
   "source": [
    "import os\n",
    "import sys\n",
    "import git\n",
    "\n",
    "from codecarbon import EmissionsTracker\n",
    "\n",
    "from tqdm import tqdm\n",
    "import numpy as np\n",
    "import matplotlib.pyplot as plt\n",
    "import scipy.optimize\n",
    "\n",
    "import torch\n",
    "from torch import nn\n",
    "import torch.nn.functional as F\n",
    "from torch.cuda.amp import GradScaler, autocast\n",
    "from torch.nn import CrossEntropyLoss\n",
    "from torch.optim import SGD, Adam, lr_scheduler\n",
    "import torchvision\n",
    "import torchvision.transforms as T\n",
    "\n",
    "import ffcv\n",
    "import ffcv.fields as fields"
   ]
  },
  {
   "cell_type": "markdown",
   "id": "fdf1a55e",
   "metadata": {},
   "source": [
    "# setup\n",
    "\n",
    "#### Determine root directory and track emissions"
   ]
  },
  {
   "cell_type": "code",
   "execution_count": 2,
   "id": "2e400db6",
   "metadata": {},
   "outputs": [],
   "source": [
    "root_dir = git.Repo(search_parent_directories=True).git.rev_parse('--show-toplevel')\n",
    "\n",
    "tracker = EmissionsTracker(output_dir=root_dir,\n",
    "                           log_level='critical')\n",
    "tracker.start()"
   ]
  },
  {
   "cell_type": "markdown",
   "id": "cac8e17c",
   "metadata": {},
   "source": [
    "#### Ensure the dataset is downloaded and available as a .beton file"
   ]
  },
  {
   "cell_type": "code",
   "execution_count": 3,
   "id": "f95f6d15",
   "metadata": {},
   "outputs": [],
   "source": [
    "def convert_dataset(dset, name):\n",
    "    writer = ffcv.writer.DatasetWriter(name + '.beton', {\n",
    "        'image': fields.RGBImageField(),\n",
    "        'label': fields.IntField()\n",
    "    })\n",
    "    writer.from_indexed_dataset(dset)"
   ]
  },
  {
   "cell_type": "code",
   "execution_count": 4,
   "id": "8c93ce92",
   "metadata": {},
   "outputs": [
    {
     "name": "stdout",
     "output_type": "stream",
     "text": [
      "Downloading https://www.cs.toronto.edu/~kriz/cifar-10-python.tar.gz to /home/korbinian/partial-model-merging/data/cifar-10-python.tar.gz\n"
     ]
    },
    {
     "name": "stderr",
     "output_type": "stream",
     "text": [
      "100%|███████████████████████████████████████████████████████████████████| 170498071/170498071 [00:01<00:00, 99670049.05it/s]\n"
     ]
    },
    {
     "name": "stdout",
     "output_type": "stream",
     "text": [
      "Extracting /home/korbinian/partial-model-merging/data/cifar-10-python.tar.gz to /home/korbinian/partial-model-merging/data\n",
      "Files already downloaded and verified\n"
     ]
    }
   ],
   "source": [
    "data_dir = os.path.join(root_dir, 'data')\n",
    "train_dset = torchvision.datasets.CIFAR10(data_dir, train=True, download=True)\n",
    "test_dset = torchvision.datasets.CIFAR10(data_dir, train=False, download=True)"
   ]
  },
  {
   "cell_type": "code",
   "execution_count": 6,
   "id": "7a95ab1a",
   "metadata": {},
   "outputs": [
    {
     "name": "stderr",
     "output_type": "stream",
     "text": [
      "100%|██████████████████████████████████████████████████████████████████████████████| 50000/50000 [00:02<00:00, 21507.46it/s]\n",
      "100%|██████████████████████████████████████████████████████████████████████████████| 10000/10000 [00:00<00:00, 11034.75it/s]\n"
     ]
    }
   ],
   "source": [
    "convert_dataset(train_dset, os.path.join(data_dir, 'cifar_train'))\n",
    "convert_dataset(test_dset, os.path.join(data_dir, 'cifar_test'))"
   ]
  },
  {
   "cell_type": "code",
   "execution_count": 16,
   "id": "c477d1e9",
   "metadata": {},
   "outputs": [],
   "source": [
    "## a directory to save VGG checkpoints\n",
    "checkpoints_dir = os.path.join(root_dir, 'checkpoints/vgg/')\n",
    "os.makedirs(checkpoints_dir, exist_ok=True)\n",
    "\n",
    "def save_model(model, filename):\n",
    "    sd = model.state_dict()\n",
    "    torch.save(model.state_dict(), os.path.join(checkpoints_dir, filename))\n",
    "\n",
    "def load_model(model, filename):\n",
    "    sd = torch.load(os.path.join(checkpoints_dir, filename))\n",
    "    model.load_state_dict(sd)"
   ]
  },
  {
   "cell_type": "code",
   "execution_count": 11,
   "id": "fabbc157",
   "metadata": {
    "scrolled": false
   },
   "outputs": [],
   "source": [
    "## CIFAR-10 dataloaders -- we use FFCV because it's fast\n",
    "from ffcv.fields import IntField, RGBImageField\n",
    "from ffcv.fields.decoders import IntDecoder, SimpleRGBImageDecoder\n",
    "from ffcv.loader import Loader, OrderOption\n",
    "from ffcv.transforms import RandomHorizontalFlip, Cutout, \\\n",
    "    RandomTranslate, Convert, ToDevice, ToTensor, ToTorchImage\n",
    "from ffcv.transforms.common import Squeeze\n",
    "\n",
    "CIFAR_MEAN = [125.307, 122.961, 113.8575]\n",
    "CIFAR_STD = [51.5865, 50.847, 51.255]\n",
    "\n",
    "## fast FFCV data loaders\n",
    "device = torch.device('cuda:0') \n",
    "label_pipeline = [IntDecoder(), ToTensor(), ToDevice(device), Squeeze()]\n",
    "pre_p = [SimpleRGBImageDecoder()]\n",
    "post_p = [\n",
    "    ToTensor(),\n",
    "    ToDevice(device, non_blocking=True),\n",
    "    ToTorchImage(),\n",
    "    Convert(torch.float16),\n",
    "    T.Normalize(CIFAR_MEAN, CIFAR_STD),\n",
    "]\n",
    "aug_p = [\n",
    "    RandomHorizontalFlip(),\n",
    "    RandomTranslate(padding=4),\n",
    "]\n",
    "\n",
    "\n",
    "train_aug_loader = Loader(os.path.join(data_dir, 'cifar_train.beton'),\n",
    "                      batch_size=500,\n",
    "                      num_workers=min(8, os.cpu_count()),\n",
    "                      order=OrderOption.RANDOM,\n",
    "                      drop_last=True,\n",
    "                      pipelines={'image': pre_p+aug_p+post_p,\n",
    "                                 'label': label_pipeline})\n",
    "train_noaug_loader = Loader(os.path.join(data_dir, 'cifar_train.beton'),\n",
    "                     batch_size=1000,\n",
    "                     num_workers=min(8, os.cpu_count()),\n",
    "                     order=OrderOption.SEQUENTIAL,\n",
    "                     drop_last=False,\n",
    "                     pipelines={'image': pre_p+post_p,\n",
    "                                'label': label_pipeline})\n",
    "test_loader = Loader(os.path.join(data_dir, 'cifar_test.beton'),\n",
    "                     batch_size=1000,\n",
    "                     num_workers=min(8, os.cpu_count()),\n",
    "                     order=OrderOption.SEQUENTIAL,\n",
    "                     drop_last=False,\n",
    "                     pipelines={'image': pre_p+post_p,\n",
    "                                'label': label_pipeline})"
   ]
  },
  {
   "cell_type": "code",
   "execution_count": 12,
   "id": "31e22780",
   "metadata": {},
   "outputs": [],
   "source": [
    "## evaluation functions\n",
    "# evaluates accuracy\n",
    "def evaluate(model, loader=test_loader):\n",
    "    model.eval()\n",
    "    correct = 0\n",
    "    with torch.no_grad(), autocast():\n",
    "        for inputs, labels in loader:\n",
    "            outputs = model(inputs.cuda())\n",
    "            pred = outputs.argmax(dim=1)\n",
    "            correct += (labels.cuda() == pred).sum().item()\n",
    "    return correct\n",
    "\n",
    "# evaluates acc and loss\n",
    "def evaluate2(model, loader=test_loader):\n",
    "    model.eval()\n",
    "    losses = []\n",
    "    correct = 0\n",
    "    total = 0\n",
    "    with torch.no_grad(), autocast():\n",
    "        for inputs, labels in loader:\n",
    "            outputs = model(inputs.cuda())\n",
    "            pred = outputs.argmax(dim=1)\n",
    "            correct += (labels.cuda() == pred).sum().item()\n",
    "            total += len(labels)\n",
    "            loss = F.cross_entropy(outputs, labels.cuda())\n",
    "            losses.append(loss.item())\n",
    "    return correct / total, np.array(losses).mean()\n",
    "\n",
    "def full_eval(model):\n",
    "    tr_acc, tr_loss = evaluate2(model, loader=train_noaug_loader)\n",
    "    te_acc, te_loss = evaluate2(model, loader=test_loader)\n",
    "    return '%.2f, %.3f, %.2f, %.3f' % (100*tr_acc, tr_loss, 100*te_acc, te_loss)"
   ]
  },
  {
   "cell_type": "markdown",
   "id": "e42cdbf3",
   "metadata": {},
   "source": [
    "## Train and save two models"
   ]
  },
  {
   "cell_type": "code",
   "execution_count": 13,
   "id": "51b6c738",
   "metadata": {},
   "outputs": [],
   "source": [
    "# https://github.com/kuangliu/pytorch-cifar/blob/master/models/vgg.py\n",
    "cfg = {\n",
    "    'VGG11': [64, 'M', 128, 'M', 256, 256, 'M', 512, 512, 'M', 512, 512, 'M'],\n",
    "    'VGG13': [64, 64, 'M', 128, 128, 'M', 256, 256, 'M', 512, 512, 'M', 512, 512, 'M'],\n",
    "    'VGG16': [64, 64, 'M', 128, 128, 'M', 256, 256, 256, 'M', 512, 512, 512, 'M', 512, 512, 512, 'M'],\n",
    "    'VGG19': [64, 64, 'M', 128, 128, 'M', 256, 256, 256, 256, 'M', 512, 512, 512, 512, 'M', 512, 512, 512, 512, 'M'],\n",
    "}\n",
    "\n",
    "class VGG(nn.Module):\n",
    "    def __init__(self, vgg_name, w=1, bn=False):\n",
    "        super(VGG, self).__init__()\n",
    "        self.vgg_name = vgg_name\n",
    "        self.bn = bn\n",
    "        self.w = w\n",
    "        self.features = self._make_layers(cfg[vgg_name])\n",
    "        self.classifier = nn.Linear(self.w*512, 10)\n",
    "\n",
    "    def forward(self, x):\n",
    "        out = self.features(x)\n",
    "        out = out.view(out.size(0), -1)\n",
    "        out = self.classifier(out)\n",
    "        return out\n",
    "\n",
    "    def _make_layers(self, cfg):\n",
    "        layers = []\n",
    "        in_channels = 3\n",
    "        for x in cfg:\n",
    "            if x == 'M':\n",
    "                layers += [nn.MaxPool2d(kernel_size=2, stride=2)]\n",
    "            else:\n",
    "                layers.append(nn.Conv2d(in_channels if in_channels == 3 else self.w*in_channels,\n",
    "                                     self.w*x, kernel_size=3, padding=1))\n",
    "                if self.bn:\n",
    "                    layers.append(nn.BatchNorm2d(self.w*x))\n",
    "                layers.append(nn.ReLU(inplace=True))\n",
    "                in_channels = x\n",
    "        layers += [nn.AvgPool2d(kernel_size=1, stride=1)]\n",
    "        return nn.Sequential(*layers)"
   ]
  },
  {
   "cell_type": "code",
   "execution_count": 14,
   "id": "35050c3f",
   "metadata": {},
   "outputs": [],
   "source": [
    "def train_model(w=1):\n",
    "    model = VGG('VGG11', w=w).cuda()\n",
    "    optimizer = SGD(model.parameters(), lr=0.08, momentum=0.9, weight_decay=5e-4)\n",
    "\n",
    "    EPOCHS = 100\n",
    "    ne_iters = len(train_aug_loader)\n",
    "    lr_schedule = np.interp(np.arange(1+EPOCHS*ne_iters), [0, 5*ne_iters, EPOCHS*ne_iters], [0, 1, 0])\n",
    "    scheduler = lr_scheduler.LambdaLR(optimizer, lr_schedule.__getitem__)\n",
    "\n",
    "    scaler = GradScaler()\n",
    "    loss_fn = CrossEntropyLoss()\n",
    "\n",
    "    losses = []\n",
    "    for epoch in tqdm(range(EPOCHS)):\n",
    "        model.train()\n",
    "        for i, (inputs, labels) in enumerate(train_aug_loader):\n",
    "            optimizer.zero_grad(set_to_none=True)\n",
    "            with autocast():\n",
    "                outputs = model(inputs.cuda())\n",
    "                loss = loss_fn(outputs, labels.cuda())\n",
    "            scaler.scale(loss).backward()\n",
    "            scaler.step(optimizer)\n",
    "            scaler.update()\n",
    "            scheduler.step()\n",
    "            losses.append(loss.item())\n",
    "    return model"
   ]
  },
  {
   "cell_type": "code",
   "execution_count": 17,
   "id": "8a972049",
   "metadata": {},
   "outputs": [
    {
     "name": "stderr",
     "output_type": "stream",
     "text": [
      "100%|█████████████████████████████████████████████████████████████████████████████████████| 100/100 [05:31<00:00,  3.31s/it]\n"
     ]
    },
    {
     "name": "stdout",
     "output_type": "stream",
     "text": [
      "8944\n"
     ]
    },
    {
     "name": "stderr",
     "output_type": "stream",
     "text": [
      "100%|█████████████████████████████████████████████████████████████████████████████████████| 100/100 [05:37<00:00,  3.37s/it]\n"
     ]
    },
    {
     "name": "stdout",
     "output_type": "stream",
     "text": [
      "8919\n"
     ]
    }
   ],
   "source": [
    "w = 1\n",
    "model = train_model(w)\n",
    "print(evaluate(model))\n",
    "save_model(model, f'vgg11x{w}_v1b.pt')\n",
    "\n",
    "model = train_model(w)\n",
    "print(evaluate(model))\n",
    "save_model(model, f'vgg11x{w}_v2b.pt')"
   ]
  },
  {
   "cell_type": "markdown",
   "id": "a25cacbb",
   "metadata": {},
   "source": [
    "### matching code"
   ]
  },
  {
   "cell_type": "code",
   "execution_count": 18,
   "id": "363e68ea",
   "metadata": {},
   "outputs": [],
   "source": [
    "# given two networks net0, net1 which each output a feature map of shape NxCxWxH\n",
    "# this will reshape both outputs to (N*W*H)xC\n",
    "# and then compute a CxC correlation matrix between the outputs of the two networks\n",
    "# N = dataset size, C = # of individual feature maps, H, W = height and width of one feature map\n",
    "def run_corr_matrix(net0, net1, epochs=1, norm=True, loader=train_aug_loader):\n",
    "    n = epochs*len(loader)\n",
    "    mean0 = mean1 = std0 = std1 = None\n",
    "    with torch.no_grad():\n",
    "        net0.eval()\n",
    "        net1.eval()\n",
    "        for _ in range(epochs):\n",
    "            for i, (images, _) in enumerate(tqdm(loader)):\n",
    "                img_t = images.float().cuda()\n",
    "                out0 = net0(img_t)\n",
    "                out0 = out0.reshape(out0.shape[0], out0.shape[1], -1).permute(0, 2, 1)\n",
    "                out0 = out0.reshape(-1, out0.shape[2]).double()\n",
    "\n",
    "                out1 = net1(img_t)\n",
    "                out1 = out1.reshape(out1.shape[0], out1.shape[1], -1).permute(0, 2, 1)\n",
    "                out1 = out1.reshape(-1, out1.shape[2]).double()\n",
    "\n",
    "                mean0_b = out0.mean(dim=0)\n",
    "                mean1_b = out1.mean(dim=0)\n",
    "                std0_b = out0.std(dim=0)\n",
    "                std1_b = out1.std(dim=0)\n",
    "                outer_b = (out0.T @ out1) / out0.shape[0]\n",
    "\n",
    "                if i == 0:\n",
    "                    mean0 = torch.zeros_like(mean0_b)\n",
    "                    mean1 = torch.zeros_like(mean1_b)\n",
    "                    std0 = torch.zeros_like(std0_b)\n",
    "                    std1 = torch.zeros_like(std1_b)\n",
    "                    outer = torch.zeros_like(outer_b)\n",
    "                mean0 += mean0_b / n\n",
    "                mean1 += mean1_b / n\n",
    "                std0 += std0_b / n\n",
    "                std1 += std1_b / n\n",
    "                outer += outer_b / n\n",
    "\n",
    "    cov = outer - torch.outer(mean0, mean1)\n",
    "    if norm:\n",
    "        corr = cov / (torch.outer(std0, std1) + 1e-4)\n",
    "        return corr\n",
    "    else:\n",
    "        return cov"
   ]
  },
  {
   "cell_type": "code",
   "execution_count": 19,
   "id": "1f9ef263",
   "metadata": {},
   "outputs": [],
   "source": [
    "def get_layer_perm1(corr_mtx):\n",
    "    corr_mtx_a = corr_mtx.cpu().numpy()\n",
    "    row_ind, col_ind = scipy.optimize.linear_sum_assignment(corr_mtx_a, maximize=True)\n",
    "    assert (row_ind == np.arange(len(corr_mtx_a))).all()\n",
    "    perm_map = torch.tensor(col_ind).long()\n",
    "    return perm_map\n",
    "\n",
    "# returns the channel-permutation to make layer1's activations most closely\n",
    "# match layer0's.\n",
    "def get_layer_perm(net0, net1):\n",
    "    corr_mtx = run_corr_matrix(net0, net1)\n",
    "    return get_layer_perm1(corr_mtx)"
   ]
  },
  {
   "cell_type": "code",
   "execution_count": 20,
   "id": "f1aae9be",
   "metadata": {},
   "outputs": [],
   "source": [
    "# modifies the weight matrices of a convolution and batchnorm\n",
    "# layer given a permutation of the output channels\n",
    "def permute_output(perm_map, conv, bn):\n",
    "    pre_weights = [\n",
    "        conv.weight,\n",
    "    ]\n",
    "    if conv.bias is not None:\n",
    "        pre_weights.append(conv.bias)\n",
    "    if bn is not None:\n",
    "        pre_weights.extend([\n",
    "            bn.weight,\n",
    "            bn.bias,\n",
    "            bn.running_mean,\n",
    "            bn.running_var,\n",
    "        ])\n",
    "    for w in pre_weights:\n",
    "        w.data = w[perm_map]\n",
    "\n",
    "# modifies the weight matrix of a layer for a given permutation of the input channels\n",
    "# works for both conv2d and linear\n",
    "def permute_input(perm_map, layer):\n",
    "    w = layer.weight\n",
    "    w.data = w[:, perm_map]"
   ]
  },
  {
   "cell_type": "markdown",
   "id": "09c8b84a",
   "metadata": {},
   "source": [
    "# Find neuron-permutation for each layer"
   ]
  },
  {
   "cell_type": "code",
   "execution_count": 22,
   "id": "c0db278e",
   "metadata": {
    "scrolled": true
   },
   "outputs": [
    {
     "data": {
      "text/plain": [
       "(8944, 8919)"
      ]
     },
     "execution_count": 22,
     "metadata": {},
     "output_type": "execute_result"
    }
   ],
   "source": [
    "model0 = VGG('VGG11', w=w).cuda()\n",
    "model1 = VGG('VGG11', w=w).cuda()\n",
    "load_model(model0, f'vgg11x{w}_v1b.pt')\n",
    "load_model(model1, f'vgg11x{w}_v2b.pt')\n",
    "\n",
    "evaluate(model0), evaluate(model1)"
   ]
  },
  {
   "cell_type": "markdown",
   "id": "fbb660be",
   "metadata": {},
   "source": [
    "## Permuting neurons in model1 to match model0"
   ]
  },
  {
   "cell_type": "code",
   "execution_count": 23,
   "id": "0a5f5fa8",
   "metadata": {
    "scrolled": false
   },
   "outputs": [
    {
     "name": "stderr",
     "output_type": "stream",
     "text": [
      "100%|█████████████████████████████████████████████████████████████████████████████████████| 100/100 [00:03<00:00, 25.69it/s]\n",
      "100%|█████████████████████████████████████████████████████████████████████████████████████| 100/100 [00:04<00:00, 21.75it/s]\n",
      "100%|█████████████████████████████████████████████████████████████████████████████████████| 100/100 [00:05<00:00, 19.78it/s]\n",
      "100%|█████████████████████████████████████████████████████████████████████████████████████| 100/100 [00:06<00:00, 15.24it/s]\n",
      "100%|█████████████████████████████████████████████████████████████████████████████████████| 100/100 [00:07<00:00, 12.95it/s]\n",
      "100%|█████████████████████████████████████████████████████████████████████████████████████| 100/100 [00:09<00:00, 10.56it/s]\n",
      "100%|█████████████████████████████████████████████████████████████████████████████████████| 100/100 [00:08<00:00, 12.42it/s]\n",
      "100%|█████████████████████████████████████████████████████████████████████████████████████| 100/100 [00:08<00:00, 11.73it/s]\n"
     ]
    }
   ],
   "source": [
    "def subnet(model, n_layers):\n",
    "    return model.features[:n_layers]\n",
    "\n",
    "feats1 = model1.features\n",
    "\n",
    "n = len(feats1)\n",
    "for i in range(n):\n",
    "    layer = feats1[i]\n",
    "    if isinstance(layer, nn.Conv2d):\n",
    "        # get permutation and permute output of conv and maybe bn\n",
    "        if isinstance(feats1[i+1], nn.BatchNorm2d):\n",
    "            assert isinstance(feats1[i+2], nn.ReLU)\n",
    "            perm_map = get_layer_perm(subnet(model0, i+3), subnet(model1, i+3))\n",
    "            permute_output(perm_map, feats1[i], feats1[i+1])\n",
    "        else:\n",
    "            assert isinstance(feats1[i+1], nn.ReLU)\n",
    "            perm_map = get_layer_perm(subnet(model0, i+2), subnet(model1, i+2))\n",
    "            permute_output(perm_map, feats1[i], None)\n",
    "        # look for succeeding layer to permute input\n",
    "        next_layer = None\n",
    "        for j in range(i+1, n):\n",
    "            if isinstance(feats1[j], nn.Conv2d):\n",
    "                next_layer = feats1[j]\n",
    "                break\n",
    "        if next_layer is None:\n",
    "            next_layer = model1.classifier\n",
    "        permute_input(perm_map, next_layer)"
   ]
  },
  {
   "cell_type": "markdown",
   "id": "1d4b4d80",
   "metadata": {},
   "source": [
    "### Save permuted weights"
   ]
  },
  {
   "cell_type": "code",
   "execution_count": 24,
   "id": "3112ee07",
   "metadata": {
    "scrolled": true
   },
   "outputs": [
    {
     "name": "stdout",
     "output_type": "stream",
     "text": [
      "8917\n"
     ]
    }
   ],
   "source": [
    "# ensure accuracy didn't change\n",
    "# (it may be slightly different due to non-associativity of floating point arithmetic)\n",
    "print(evaluate(model1))\n",
    "save_model(model1, f'vgg11x{w}_v2b_perm1b.pt')"
   ]
  },
  {
   "cell_type": "markdown",
   "id": "bc494077",
   "metadata": {},
   "source": [
    "## Evaluate the interpolated network"
   ]
  },
  {
   "cell_type": "code",
   "execution_count": 33,
   "id": "1a7ae6a7",
   "metadata": {},
   "outputs": [],
   "source": [
    "def mix_weights(model, alpha, key0, key1):\n",
    "    sd0 = torch.load(os.path.join(checkpoints_dir, f'{key0}.pt'))\n",
    "    sd1 = torch.load(os.path.join(checkpoints_dir, f'{key1}.pt'))\n",
    "    sd_alpha = {k: (1 - alpha) * sd0[k].cuda() + alpha * sd1[k].cuda()\n",
    "                for k in sd0.keys()}\n",
    "    model.load_state_dict(sd_alpha)\n",
    "\n",
    "# use the train loader with data augmentation as this gives better results\n",
    "def reset_bn_stats(model, epochs=1, loader=train_aug_loader):\n",
    "    # resetting stats to baseline first as below is necessary for stability\n",
    "    for m in model.modules():\n",
    "        if type(m) == nn.BatchNorm2d:\n",
    "            m.momentum = None # use simple average\n",
    "            m.reset_running_stats()\n",
    "    # run a single train epoch with augmentations to recalc stats\n",
    "    model.train()\n",
    "    for _ in range(epochs):\n",
    "        with torch.no_grad(), autocast():\n",
    "            for images, _ in loader:\n",
    "                output = model(images.cuda())"
   ]
  },
  {
   "cell_type": "code",
   "execution_count": 34,
   "id": "19b83991",
   "metadata": {
    "scrolled": false
   },
   "outputs": [
    {
     "name": "stdout",
     "output_type": "stream",
     "text": [
      "77.45, 0.851, 74.02, 0.920\n"
     ]
    }
   ],
   "source": [
    "model_a = VGG('VGG11', w=w).cuda()\n",
    "mix_weights(model_a, 0.5, 'vgg11x%d_v1b' % w, 'vgg11x%d_v2b_perm1b' % w)\n",
    "print(full_eval(model_a))"
   ]
  },
  {
   "cell_type": "markdown",
   "id": "6e06da3f",
   "metadata": {},
   "source": [
    "## Diagnosing the problem: measuring unitwise variances\n",
    "\n",
    "The interpolated network got 70% train accuracy -- not very good, much worse than the endpoints which get over 90%. Why does this happen?\n",
    "\n",
    "(We find that) in later layers of the interpolated network, the variance of hidden units has \"collapsed\", relative to the variance of the same hidden units in the original/parent/endpoint networks."
   ]
  },
  {
   "cell_type": "code",
   "execution_count": 35,
   "id": "860f4a42",
   "metadata": {},
   "outputs": [],
   "source": [
    "inputs, _ = next(iter(train_aug_loader))"
   ]
  },
  {
   "cell_type": "code",
   "execution_count": 36,
   "id": "871893bc",
   "metadata": {},
   "outputs": [
    {
     "data": {
      "image/png": "[encoded data removed]",
      "text/plain": [
       "<Figure size 640x480 with 1 Axes>"
      ]
     },
     "metadata": {},
     "output_type": "display_data"
    }
   ],
   "source": [
    "# returns (vv0, vva, vv1)\n",
    "# where vv0 is a list of layerwise variances (as defined in paper)\n",
    "# for model0 (alpha=0.0)\n",
    "# and vva is the same for the midpoint (alpha=0.5)\n",
    "# and vv1 for model1 (alpha=1.0)\n",
    "def get_layerwise_vars(k0, k1):\n",
    "    vvs = []\n",
    "    for alpha in [0, 0.5, 1]:\n",
    "        mix_weights(model_a, alpha, k0, k1)\n",
    "        vv = []\n",
    "        for i in [1, 4, 7, 9, 12, 14, 17, 19]:\n",
    "#         for i in [2, 5, 8, 10, 13, 15, 18, 20]:\n",
    "            subnet = model_a.features[:i]\n",
    "            with torch.no_grad(), autocast():\n",
    "                out = subnet(inputs)\n",
    "            out = out.permute(1, 0, 2, 3).reshape(out.size(1), -1)\n",
    "            avg_var = out.var(1).mean()\n",
    "            vv.append(avg_var.item())\n",
    "        vvs.append(np.array(vv))\n",
    "    vv0, vva, vv1 = vvs\n",
    "    return vv0, vva, vv1\n",
    "\n",
    "# returns a list of ratios between the variance of\n",
    "# the weight-interpolation midpoint and the averaged variances\n",
    "# of the two endpoints.\n",
    "def get_layerwise_ratios(k0, k1):\n",
    "    vv0, vva, vv1 = get_layerwise_vars(k0, k1)\n",
    "    vv00 = (vv0+vv1)/2\n",
    "    rr = vva/vv0\n",
    "    return rr\n",
    "\n",
    "k0 = 'vgg11x%d_v1b' % w\n",
    "k1 = 'vgg11x%d_v2b' % w\n",
    "rr1 = get_layerwise_ratios(k0, k1)\n",
    "\n",
    "k0 = 'vgg11x%d_v1b' % w\n",
    "k1 = 'vgg11x%d_v2b_perm1b' % w\n",
    "rr2 = get_layerwise_ratios(k0, k1)\n",
    "\n",
    "plt.plot(rr1, label='Without neuron matching')\n",
    "plt.plot(rr2, label='With neuron matching')\n",
    "# plt.yscale('log')\n",
    "plt.ylim([0, 1])\n",
    "plt.xlabel('Layer index')\n",
    "plt.title('VGG11 layerwise variance ratios')\n",
    "plt.ylabel('$\\\\dfrac{\\\\sigma_{0.5}}{(\\\\sigma_0 + \\\\sigma_1)/2}$')\n",
    "plt.legend()\n",
    "plt.show()"
   ]
  },
  {
   "cell_type": "markdown",
   "id": "89396da3",
   "metadata": {},
   "source": [
    "## Solving the problem: Activation Renormalization\n",
    "\n",
    "We introduce a rescaling of each neuron's preactivation in the interpolated network, such that the statistics of each neuron are set to be similar to those of the endpoint networks. Practically, this is accomplished by the temporary introduction of PyTorch nn.BatchNorm2d layers, which are then \"fused\" back into the preceding convolutions."
   ]
  },
  {
   "cell_type": "code",
   "execution_count": 37,
   "id": "4ff057c6",
   "metadata": {},
   "outputs": [],
   "source": [
    "class ResetConv(nn.Module):\n",
    "    def __init__(self, conv):\n",
    "        super().__init__()\n",
    "        self.h = h = conv.out_channels\n",
    "        self.conv = conv\n",
    "        self.bn = nn.BatchNorm2d(h)\n",
    "        self.rescale = False\n",
    "        \n",
    "    def set_stats(self, goal_mean, goal_var):\n",
    "        self.bn.bias.data = goal_mean\n",
    "        goal_std = (goal_var + 1e-5).sqrt()\n",
    "        self.bn.weight.data = goal_std\n",
    "        \n",
    "    def forward(self, x):\n",
    "        x = self.conv(x)\n",
    "        if self.rescale:\n",
    "            x = self.bn(x)\n",
    "        else:\n",
    "            self.bn(x)\n",
    "        return x\n",
    "\n",
    "def make_tracked_net(net, w):\n",
    "    net1 = VGG('VGG11', w=w).cuda()\n",
    "    net1.load_state_dict(net.state_dict())\n",
    "    feats1 = net1.features\n",
    "    for i, layer in enumerate(feats1):\n",
    "        if isinstance(layer, nn.Conv2d):\n",
    "            feats1[i] = ResetConv(layer)\n",
    "    return net1.cuda().eval()\n",
    "\n",
    "def fuse_conv_bn(conv, bn):\n",
    "    fused = torch.nn.Conv2d(\n",
    "        conv.in_channels,\n",
    "        conv.out_channels,\n",
    "        kernel_size=conv.kernel_size,\n",
    "        stride=conv.stride,\n",
    "        padding=conv.padding,\n",
    "        bias=True,\n",
    "    )\n",
    "\n",
    "    # setting weights\n",
    "    w_conv = conv.weight.clone()\n",
    "    bn_std = (bn.eps + bn.running_var).sqrt()\n",
    "    gamma = bn.weight / bn_std\n",
    "    fused.weight.data = (w_conv * gamma.reshape(-1, 1, 1, 1))\n",
    "\n",
    "    # setting bias\n",
    "    b_conv = conv.bias if conv.bias is not None else torch.zeros_like(bn.bias)\n",
    "    beta = bn.bias + gamma * (-bn.running_mean + b_conv)\n",
    "    fused.bias.data = beta\n",
    "    \n",
    "    return fused\n",
    "\n",
    "def fuse_tracked_net(net, w):\n",
    "    net1 = VGG('VGG11', w=w).cuda()\n",
    "    feats1 = net1.features\n",
    "    for i, layer in enumerate(net.features):\n",
    "        if isinstance(layer, ResetConv):\n",
    "            conv = fuse_conv_bn(layer.conv, layer.bn)\n",
    "            feats1[i].load_state_dict(conv.state_dict())\n",
    "    net1.classifier.load_state_dict(net.classifier.state_dict())\n",
    "    return net1"
   ]
  },
  {
   "cell_type": "code",
   "execution_count": 38,
   "id": "2b8f5931",
   "metadata": {},
   "outputs": [
    {
     "name": "stdout",
     "output_type": "stream",
     "text": [
      "train_acc, train_loss, test_acc, test_loss...\n",
      "(α=0.0) 99.85, 0.006, 89.44, 0.510\n",
      "(α=0.5) 77.45, 0.851, 74.02, 0.920\n",
      "(α=1.0) 99.89, 0.005, 89.17, 0.502\n"
     ]
    }
   ],
   "source": [
    "model0 = VGG('VGG11', w).cuda()\n",
    "model_a = VGG('VGG11', w).cuda()\n",
    "model1 = VGG('VGG11', w).cuda()\n",
    "\n",
    "k0 = 'vgg11x%d_v1b' % w\n",
    "k1 = 'vgg11x%d_v2b_perm1b' % w\n",
    "mix_weights(model0, 0.0, k0, k1)\n",
    "mix_weights(model_a, 0.5, k0, k1)\n",
    "mix_weights(model1, 1.0, k0, k1)\n",
    "\n",
    "print('train_acc, train_loss, test_acc, test_loss...')\n",
    "print('(α=0.0)', full_eval(model0))\n",
    "print('(α=0.5)', full_eval(model_a))\n",
    "print('(α=1.0)', full_eval(model1))"
   ]
  },
  {
   "cell_type": "code",
   "execution_count": 39,
   "id": "80f95d1a",
   "metadata": {},
   "outputs": [],
   "source": [
    "## calculate the statistics of every hidden unit in the endpoint networks\n",
    "## this is done practically using PyTorch BatchNorm2d layers.\n",
    "wrap0 = make_tracked_net(model0, w=w)\n",
    "wrap1 = make_tracked_net(model1, w=w)\n",
    "reset_bn_stats(wrap0)\n",
    "reset_bn_stats(wrap1)\n",
    "\n",
    "wrap_a = make_tracked_net(model_a, w=w)\n",
    "## set the goal mean/std in added bns of interpolated network, and turn batch renormalization on\n",
    "for m0, m_a, m1 in zip(wrap0.modules(), wrap_a.modules(), wrap1.modules()):\n",
    "    if not isinstance(m0, ResetConv):\n",
    "        continue\n",
    "    # get goal statistics -- interpolate the mean and std of parent networks\n",
    "    mu0 = m0.bn.running_mean\n",
    "    mu1 = m1.bn.running_mean\n",
    "    goal_mean = (mu0 + mu1)/2\n",
    "    var0 = m0.bn.running_var\n",
    "    var1 = m1.bn.running_var\n",
    "    goal_var = ((var0.sqrt() + var1.sqrt())/2).square()\n",
    "    # set these in the interpolated bn controller\n",
    "    m_a.set_stats(goal_mean, goal_var)\n",
    "    # turn rescaling on\n",
    "    m_a.rescale = True\n",
    "    \n",
    "# reset the tracked mean/var and fuse rescalings back into conv layers \n",
    "reset_bn_stats(wrap_a)\n",
    "# fuse the rescaling+shift coefficients back into conv layers\n",
    "model_b = fuse_tracked_net(wrap_a, w)"
   ]
  },
  {
   "cell_type": "code",
   "execution_count": 40,
   "id": "d8a00564",
   "metadata": {},
   "outputs": [
    {
     "name": "stdout",
     "output_type": "stream",
     "text": [
      "(α=0.5 corrected) 90.79, 0.297, 84.56, 0.628\n"
     ]
    }
   ],
   "source": [
    "print('(α=0.5 corrected)', full_eval(model_b))"
   ]
  },
  {
   "cell_type": "code",
   "execution_count": null,
   "id": "529f9fd9",
   "metadata": {},
   "outputs": [],
   "source": []
  },
  {
   "cell_type": "code",
   "execution_count": null,
   "id": "9fa1693a",
   "metadata": {},
   "outputs": [],
   "source": []
  }
 ],
 "metadata": {
  "kernelspec": {
   "display_name": "Python 3 (ipykernel)",
   "language": "python",
   "name": "python3"
  },
  "language_info": {
   "codemirror_mode": {
    "name": "ipython",
    "version": 3
   },
   "file_extension": ".py",
   "mimetype": "text/x-python",
   "name": "python",
   "nbconvert_exporter": "python",
   "pygments_lexer": "ipython3",
   "version": "3.10.6"
  }
 },
 "nbformat": 4,
 "nbformat_minor": 5
}
