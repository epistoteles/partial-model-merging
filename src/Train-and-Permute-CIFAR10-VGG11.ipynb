{
 "cells": [
  {
   "cell_type": "markdown",
   "id": "9021242c",
   "metadata": {},
   "source": [
    "# Train-and-Permute-CIFAR10-VGG11\n",
    "\n",
    "This notebook executes the following:\n",
    "\n",
    "1. We train two normalization-free, 2x width VGG11 networks, calling them model0 and model1.\n",
    "2. We compute a set of permutations which align the neurons of model1 with those of model0. We use a correlation-based method which goes back to https://arxiv.org/abs/1511.07543.\n",
    "3. We evaluate the accuracy of the interpolation between model0 and the neuron-permuted version of model1. It's not very good -- accuracy drops from ~90% at the \"endpoint\" networks to ~73% at the midpoint.\n",
    "4. We investigate the cause of this drop. We find that the later hidden units of the interpolated network have \"collapsed variance\".\n",
    "5. We introduce a method of correcting for this phenomenon: For each unit in the interpolated network, we rescale it such that its statistics are similar to those of the parent/endpoint networks.\n",
    "6. We re-evaluate the interpolated network after this correction has been applied, and find that it gets 86.5% test accuracy. So the gap / \"barrier\" has shrunk from 90-73 = 17% to only ~4%. The barrier in terms of test loss is also below 0.1 after correction.\n",
    "\n",
    "We also note that the idea of resetting the BatchNorm statistics of interpolated networks goes at least back to https://arxiv.org/abs/1803.05407. The method we introduce here can be thought of as a generalization of BatchNorm-reset to networks which don't use BatchNorm!\n",
    "\n",
    "For some comparable numbers we can look at the VGG curve of Figure 4 in Git Re-Basin (https://arxiv.org/abs/2209.04836). The authors use a permutation-only method with LayerNorm-based networks, and report a test loss barrier of ~0.25 for 2x-width VGG-16."
   ]
  },
  {
   "cell_type": "code",
   "execution_count": 4,
   "id": "c0db779d",
   "metadata": {},
   "outputs": [],
   "source": [
    "import os\n",
    "import sys\n",
    "\n",
    "from tqdm import tqdm\n",
    "import numpy as np\n",
    "import matplotlib.pyplot as plt\n",
    "import scipy.optimize\n",
    "\n",
    "import torch\n",
    "from torch import nn\n",
    "import torch.nn.functional as F\n",
    "from torch.cuda.amp import GradScaler, autocast\n",
    "from torch.nn import CrossEntropyLoss\n",
    "from torch.optim import SGD, Adam, lr_scheduler\n",
    "import torchvision\n",
    "import torchvision.transforms as T\n",
    "\n",
    "from codecarbon import EmissionsTracker"
   ]
  },
  {
   "cell_type": "markdown",
   "id": "fdf1a55e",
   "metadata": {},
   "source": [
    "# setup"
   ]
  },
  {
   "cell_type": "code",
   "execution_count": 5,
   "id": "2e400db6",
   "metadata": {},
   "outputs": [
    {
     "name": "stderr",
     "output_type": "stream",
     "text": [
      "[codecarbon INFO @ 12:33:23] [setup] RAM Tracking...\n",
      "[codecarbon INFO @ 12:33:23] [setup] GPU Tracking...\n",
      "[codecarbon INFO @ 12:33:23] No GPU found.\n",
      "[codecarbon INFO @ 12:33:23] [setup] CPU Tracking...\n",
      "[codecarbon ERROR @ 12:33:23] Unable to read Intel RAPL files for CPU power, we will use a constant for your CPU power. Please view https://github.com/mlco2/codecarbon/issues/244 for workarounds : [Errno 13] Permission denied: '/sys/class/powercap/intel-rapl/intel-rapl:0/energy_uj'\n",
      "[codecarbon INFO @ 12:33:23] Tracking Intel CPU via RAPL interface\n",
      "[codecarbon ERROR @ 12:33:24] Unable to read Intel RAPL files for CPU power, we will use a constant for your CPU power. Please view https://github.com/mlco2/codecarbon/issues/244 for workarounds : [Errno 13] Permission denied: '/sys/class/powercap/intel-rapl/intel-rapl:0/energy_uj'\n",
      "[codecarbon INFO @ 12:33:24] >>> Tracker's metadata:\n",
      "[codecarbon INFO @ 12:33:24]   Platform system: Linux-5.19.0-38-generic-x86_64-with-glibc2.35\n",
      "[codecarbon INFO @ 12:33:24]   Python version: 3.10.6\n",
      "[codecarbon INFO @ 12:33:24]   Available RAM : 15.004 GB\n",
      "[codecarbon INFO @ 12:33:24]   CPU count: 8\n",
      "[codecarbon INFO @ 12:33:24]   CPU model: AMD Ryzen 7 4700U with Radeon Graphics\n",
      "[codecarbon INFO @ 12:33:24]   GPU count: None\n",
      "[codecarbon INFO @ 12:33:24]   GPU model: None\n",
      "[codecarbon INFO @ 12:33:34] Energy consumed for RAM : 0.003209 kWh. RAM Power : 5.626379013061523 W\n",
      "[codecarbon INFO @ 12:33:34] Energy consumed for all CPUs : 0.000000 kWh. All CPUs Power : 0.0 W\n",
      "[codecarbon INFO @ 12:33:34] 0.003209 kWh of electricity used since the begining.\n",
      "[codecarbon INFO @ 12:33:43] Energy consumed for RAM : 0.000023 kWh. RAM Power : 5.626379013061523 W\n",
      "[codecarbon INFO @ 12:33:43] Energy consumed for all CPUs : 0.000000 kWh. All CPUs Power : 0.0 W\n",
      "[codecarbon INFO @ 12:33:43] 0.000023 kWh of electricity used since the begining.\n",
      "[codecarbon INFO @ 12:33:49] Energy consumed for RAM : 0.003232 kWh. RAM Power : 5.626379013061523 W\n",
      "[codecarbon INFO @ 12:33:49] Energy consumed for all CPUs : 0.000000 kWh. All CPUs Power : 0.0 W\n",
      "[codecarbon INFO @ 12:33:49] 0.003232 kWh of electricity used since the begining.\n",
      "[codecarbon INFO @ 12:33:58] Energy consumed for RAM : 0.000047 kWh. RAM Power : 5.626379013061523 W\n",
      "[codecarbon INFO @ 12:33:58] Energy consumed for all CPUs : 0.000000 kWh. All CPUs Power : 0.0 W\n",
      "[codecarbon INFO @ 12:33:58] 0.000047 kWh of electricity used since the begining.\n",
      "[codecarbon INFO @ 12:34:04] Energy consumed for RAM : 0.003256 kWh. RAM Power : 5.626379013061523 W\n",
      "[codecarbon INFO @ 12:34:04] Energy consumed for all CPUs : 0.000000 kWh. All CPUs Power : 0.0 W\n",
      "[codecarbon INFO @ 12:34:04] 0.003256 kWh of electricity used since the begining.\n",
      "[codecarbon INFO @ 12:34:13] Energy consumed for RAM : 0.000070 kWh. RAM Power : 5.626379013061523 W\n",
      "[codecarbon INFO @ 12:34:13] Energy consumed for all CPUs : 0.000000 kWh. All CPUs Power : 0.0 W\n",
      "[codecarbon INFO @ 12:34:13] 0.000070 kWh of electricity used since the begining.\n",
      "[codecarbon INFO @ 12:34:19] Energy consumed for RAM : 0.003279 kWh. RAM Power : 5.626379013061523 W\n",
      "[codecarbon INFO @ 12:34:19] Energy consumed for all CPUs : 0.000000 kWh. All CPUs Power : 0.0 W\n",
      "[codecarbon INFO @ 12:34:19] 0.003279 kWh of electricity used since the begining.\n",
      "[codecarbon INFO @ 12:34:28] Energy consumed for RAM : 0.000094 kWh. RAM Power : 5.626379013061523 W\n",
      "[codecarbon INFO @ 12:34:28] Energy consumed for all CPUs : 0.000000 kWh. All CPUs Power : 0.0 W\n",
      "[codecarbon INFO @ 12:34:28] 0.000094 kWh of electricity used since the begining.\n",
      "[codecarbon INFO @ 12:34:34] Energy consumed for RAM : 0.003303 kWh. RAM Power : 5.626379013061523 W\n",
      "[codecarbon INFO @ 12:34:34] Energy consumed for all CPUs : 0.000000 kWh. All CPUs Power : 0.0 W\n",
      "[codecarbon INFO @ 12:34:34] 0.003303 kWh of electricity used since the begining.\n",
      "[codecarbon INFO @ 12:34:43] Energy consumed for RAM : 0.000117 kWh. RAM Power : 5.626379013061523 W\n",
      "[codecarbon INFO @ 12:34:43] Energy consumed for all CPUs : 0.000000 kWh. All CPUs Power : 0.0 W\n",
      "[codecarbon INFO @ 12:34:43] 0.000117 kWh of electricity used since the begining.\n",
      "[codecarbon INFO @ 12:34:49] Energy consumed for RAM : 0.003326 kWh. RAM Power : 5.626379013061523 W\n",
      "[codecarbon INFO @ 12:34:49] Energy consumed for all CPUs : 0.000000 kWh. All CPUs Power : 0.0 W\n",
      "[codecarbon INFO @ 12:34:49] 0.003326 kWh of electricity used since the begining.\n",
      "[codecarbon INFO @ 12:34:58] Energy consumed for RAM : 0.000141 kWh. RAM Power : 5.626379013061523 W\n",
      "[codecarbon INFO @ 12:34:58] Energy consumed for all CPUs : 0.000000 kWh. All CPUs Power : 0.0 W\n",
      "[codecarbon INFO @ 12:34:58] 0.000141 kWh of electricity used since the begining.\n",
      "[codecarbon INFO @ 12:35:04] Energy consumed for RAM : 0.003349 kWh. RAM Power : 5.626379013061523 W\n",
      "[codecarbon INFO @ 12:35:04] Energy consumed for all CPUs : 0.000000 kWh. All CPUs Power : 0.0 W\n",
      "[codecarbon INFO @ 12:35:04] 0.003349 kWh of electricity used since the begining.\n",
      "[codecarbon INFO @ 12:35:13] Energy consumed for RAM : 0.000164 kWh. RAM Power : 5.626379013061523 W\n",
      "[codecarbon INFO @ 12:35:13] Energy consumed for all CPUs : 0.000000 kWh. All CPUs Power : 0.0 W\n",
      "[codecarbon INFO @ 12:35:13] 0.000164 kWh of electricity used since the begining.\n",
      "[codecarbon INFO @ 12:35:19] Energy consumed for RAM : 0.003373 kWh. RAM Power : 5.626379013061523 W\n",
      "[codecarbon INFO @ 12:35:19] Energy consumed for all CPUs : 0.000000 kWh. All CPUs Power : 0.0 W\n",
      "[codecarbon INFO @ 12:35:19] 0.003373 kWh of electricity used since the begining.\n",
      "[codecarbon INFO @ 12:35:28] Energy consumed for RAM : 0.000188 kWh. RAM Power : 5.626379013061523 W\n",
      "[codecarbon INFO @ 12:35:28] Energy consumed for all CPUs : 0.000000 kWh. All CPUs Power : 0.0 W\n",
      "[codecarbon INFO @ 12:35:28] 0.000188 kWh of electricity used since the begining.\n",
      "[codecarbon INFO @ 12:35:34] Energy consumed for RAM : 0.003396 kWh. RAM Power : 5.626379013061523 W\n",
      "[codecarbon INFO @ 12:35:34] Energy consumed for all CPUs : 0.000000 kWh. All CPUs Power : 0.0 W\n",
      "[codecarbon INFO @ 12:35:34] 0.003396 kWh of electricity used since the begining.\n",
      "[codecarbon INFO @ 12:35:43] Energy consumed for RAM : 0.000211 kWh. RAM Power : 5.626379013061523 W\n",
      "[codecarbon INFO @ 12:35:43] Energy consumed for all CPUs : 0.000000 kWh. All CPUs Power : 0.0 W\n",
      "[codecarbon INFO @ 12:35:43] 0.000211 kWh of electricity used since the begining.\n",
      "[codecarbon INFO @ 12:35:49] Energy consumed for RAM : 0.003420 kWh. RAM Power : 5.626379013061523 W\n",
      "[codecarbon INFO @ 12:35:49] Energy consumed for all CPUs : 0.000000 kWh. All CPUs Power : 0.0 W\n",
      "[codecarbon INFO @ 12:35:49] 0.003420 kWh of electricity used since the begining.\n",
      "[codecarbon INFO @ 12:35:58] Energy consumed for RAM : 0.000234 kWh. RAM Power : 5.626379013061523 W\n",
      "[codecarbon INFO @ 12:35:58] Energy consumed for all CPUs : 0.000000 kWh. All CPUs Power : 0.0 W\n",
      "[codecarbon INFO @ 12:35:58] 0.000234 kWh of electricity used since the begining.\n",
      "[codecarbon INFO @ 12:36:04] Energy consumed for RAM : 0.003443 kWh. RAM Power : 5.626379013061523 W\n",
      "[codecarbon INFO @ 12:36:04] Energy consumed for all CPUs : 0.000000 kWh. All CPUs Power : 0.0 W\n",
      "[codecarbon INFO @ 12:36:04] 0.003443 kWh of electricity used since the begining.\n"
     ]
    }
   ],
   "source": [
    "tracker = EmissionsTracker()\n",
    "tracker.start()"
   ]
  },
  {
   "cell_type": "code",
   "execution_count": 9,
   "id": "0fbe2090",
   "metadata": {},
   "outputs": [
    {
     "data": {
      "text/plain": [
       "EmissionsData(timestamp='2023-05-02T12:39:44', project_name='codecarbon', run_id='b230a49d-7af7-4785-ab45-243868fc9a42', duration=376.7150297164917, emissions=0.0001771687574945463, emissions_rate=0.0004702991479471366, cpu_power=0.0, gpu_power=0.0, ram_power=5.626379013061523, cpu_energy=0, gpu_energy=0, ram_energy=0.0005886005232376954, energy_consumed=0.0005886005232376954, country_name='Germany', country_iso_code='DEU', region='free and hanseatic city of hamburg', cloud_provider='', cloud_region='', os='Linux-5.19.0-38-generic-x86_64-with-glibc2.35', python_version='3.10.6', cpu_count=8, cpu_model='AMD Ryzen 7 4700U with Radeon Graphics', gpu_count=None, gpu_model=None, longitude=9.9946, latitude=53.5544, ram_total_size=15.003677368164062, tracking_mode='machine', on_cloud='N')"
      ]
     },
     "execution_count": 9,
     "metadata": {},
     "output_type": "execute_result"
    },
    {
     "name": "stderr",
     "output_type": "stream",
     "text": [
      "[codecarbon INFO @ 12:40:04] Energy consumed for RAM : 0.003818 kWh. RAM Power : 5.626379013061523 W\n",
      "[codecarbon INFO @ 12:40:04] Energy consumed for all CPUs : 0.000000 kWh. All CPUs Power : 0.0 W\n",
      "[codecarbon INFO @ 12:40:04] 0.003818 kWh of electricity used since the begining.\n",
      "[codecarbon INFO @ 12:40:19] Energy consumed for RAM : 0.003842 kWh. RAM Power : 5.626379013061523 W\n",
      "[codecarbon INFO @ 12:40:19] Energy consumed for all CPUs : 0.000000 kWh. All CPUs Power : 0.0 W\n",
      "[codecarbon INFO @ 12:40:19] 0.003842 kWh of electricity used since the begining.\n",
      "[codecarbon INFO @ 12:40:34] Energy consumed for RAM : 0.003865 kWh. RAM Power : 5.626379013061523 W\n",
      "[codecarbon INFO @ 12:40:34] Energy consumed for all CPUs : 0.000000 kWh. All CPUs Power : 0.0 W\n",
      "[codecarbon INFO @ 12:40:34] 0.003865 kWh of electricity used since the begining.\n",
      "[codecarbon INFO @ 12:40:49] Energy consumed for RAM : 0.003888 kWh. RAM Power : 5.626379013061523 W\n",
      "[codecarbon INFO @ 12:40:49] Energy consumed for all CPUs : 0.000000 kWh. All CPUs Power : 0.0 W\n",
      "[codecarbon INFO @ 12:40:49] 0.003888 kWh of electricity used since the begining.\n",
      "[codecarbon INFO @ 12:41:04] Energy consumed for RAM : 0.003912 kWh. RAM Power : 5.626379013061523 W\n",
      "[codecarbon INFO @ 12:41:04] Energy consumed for all CPUs : 0.000000 kWh. All CPUs Power : 0.0 W\n",
      "[codecarbon INFO @ 12:41:04] 0.003912 kWh of electricity used since the begining.\n",
      "[codecarbon INFO @ 12:41:19] Energy consumed for RAM : 0.003935 kWh. RAM Power : 5.626379013061523 W\n",
      "[codecarbon INFO @ 12:41:19] Energy consumed for all CPUs : 0.000000 kWh. All CPUs Power : 0.0 W\n",
      "[codecarbon INFO @ 12:41:19] 0.003935 kWh of electricity used since the begining.\n",
      "[codecarbon INFO @ 12:41:34] Energy consumed for RAM : 0.003959 kWh. RAM Power : 5.626379013061523 W\n",
      "[codecarbon INFO @ 12:41:34] Energy consumed for all CPUs : 0.000000 kWh. All CPUs Power : 0.0 W\n",
      "[codecarbon INFO @ 12:41:34] 0.003959 kWh of electricity used since the begining.\n",
      "[codecarbon INFO @ 12:41:49] Energy consumed for RAM : 0.003982 kWh. RAM Power : 5.626379013061523 W\n",
      "[codecarbon INFO @ 12:41:49] Energy consumed for all CPUs : 0.000000 kWh. All CPUs Power : 0.0 W\n",
      "[codecarbon INFO @ 12:41:49] 0.003982 kWh of electricity used since the begining.\n",
      "[codecarbon INFO @ 12:42:04] Energy consumed for RAM : 0.004006 kWh. RAM Power : 5.626379013061523 W\n",
      "[codecarbon INFO @ 12:42:04] Energy consumed for all CPUs : 0.000000 kWh. All CPUs Power : 0.0 W\n",
      "[codecarbon INFO @ 12:42:04] 0.004006 kWh of electricity used since the begining.\n",
      "[codecarbon INFO @ 12:42:19] Energy consumed for RAM : 0.004029 kWh. RAM Power : 5.626379013061523 W\n",
      "[codecarbon INFO @ 12:42:19] Energy consumed for all CPUs : 0.000000 kWh. All CPUs Power : 0.0 W\n",
      "[codecarbon INFO @ 12:42:19] 0.004029 kWh of electricity used since the begining.\n",
      "[codecarbon INFO @ 12:42:34] Energy consumed for RAM : 0.004052 kWh. RAM Power : 5.626379013061523 W\n",
      "[codecarbon INFO @ 12:42:34] Energy consumed for all CPUs : 0.000000 kWh. All CPUs Power : 0.0 W\n",
      "[codecarbon INFO @ 12:42:34] 0.004052 kWh of electricity used since the begining.\n",
      "[codecarbon INFO @ 12:42:49] Energy consumed for RAM : 0.004076 kWh. RAM Power : 5.626379013061523 W\n",
      "[codecarbon INFO @ 12:42:49] Energy consumed for all CPUs : 0.000000 kWh. All CPUs Power : 0.0 W\n",
      "[codecarbon INFO @ 12:42:49] 0.004076 kWh of electricity used since the begining.\n",
      "[codecarbon INFO @ 12:43:04] Energy consumed for RAM : 0.004099 kWh. RAM Power : 5.626379013061523 W\n",
      "[codecarbon INFO @ 12:43:04] Energy consumed for all CPUs : 0.000000 kWh. All CPUs Power : 0.0 W\n",
      "[codecarbon INFO @ 12:43:04] 0.004099 kWh of electricity used since the begining.\n",
      "[codecarbon INFO @ 12:43:19] Energy consumed for RAM : 0.004123 kWh. RAM Power : 5.626379013061523 W\n",
      "[codecarbon INFO @ 12:43:19] Energy consumed for all CPUs : 0.000000 kWh. All CPUs Power : 0.0 W\n",
      "[codecarbon INFO @ 12:43:19] 0.004123 kWh of electricity used since the begining.\n",
      "[codecarbon INFO @ 12:43:34] Energy consumed for RAM : 0.004146 kWh. RAM Power : 5.626379013061523 W\n",
      "[codecarbon INFO @ 12:43:34] Energy consumed for all CPUs : 0.000000 kWh. All CPUs Power : 0.0 W\n",
      "[codecarbon INFO @ 12:43:34] 0.004146 kWh of electricity used since the begining.\n",
      "[codecarbon INFO @ 12:43:49] Energy consumed for RAM : 0.004170 kWh. RAM Power : 5.626379013061523 W\n",
      "[codecarbon INFO @ 12:43:49] Energy consumed for all CPUs : 0.000000 kWh. All CPUs Power : 0.0 W\n",
      "[codecarbon INFO @ 12:43:49] 0.004170 kWh of electricity used since the begining.\n",
      "[codecarbon INFO @ 12:44:04] Energy consumed for RAM : 0.004193 kWh. RAM Power : 5.626379013061523 W\n",
      "[codecarbon INFO @ 12:44:04] Energy consumed for all CPUs : 0.000000 kWh. All CPUs Power : 0.0 W\n",
      "[codecarbon INFO @ 12:44:04] 0.004193 kWh of electricity used since the begining.\n",
      "[codecarbon INFO @ 12:44:19] Energy consumed for RAM : 0.004217 kWh. RAM Power : 5.626379013061523 W\n",
      "[codecarbon INFO @ 12:44:19] Energy consumed for all CPUs : 0.000000 kWh. All CPUs Power : 0.0 W\n",
      "[codecarbon INFO @ 12:44:19] 0.004217 kWh of electricity used since the begining.\n",
      "[codecarbon INFO @ 12:44:34] Energy consumed for RAM : 0.004240 kWh. RAM Power : 5.626379013061523 W\n",
      "[codecarbon INFO @ 12:44:34] Energy consumed for all CPUs : 0.000000 kWh. All CPUs Power : 0.0 W\n",
      "[codecarbon INFO @ 12:44:34] 0.004240 kWh of electricity used since the begining.\n",
      "[codecarbon INFO @ 12:44:49] Energy consumed for RAM : 0.004263 kWh. RAM Power : 5.626379013061523 W\n",
      "[codecarbon INFO @ 12:44:49] Energy consumed for all CPUs : 0.000000 kWh. All CPUs Power : 0.0 W\n",
      "[codecarbon INFO @ 12:44:49] 0.004263 kWh of electricity used since the begining.\n",
      "[codecarbon INFO @ 12:45:04] Energy consumed for RAM : 0.004287 kWh. RAM Power : 5.626379013061523 W\n",
      "[codecarbon INFO @ 12:45:04] Energy consumed for all CPUs : 0.000000 kWh. All CPUs Power : 0.0 W\n",
      "[codecarbon INFO @ 12:45:04] 0.004287 kWh of electricity used since the begining.\n",
      "[codecarbon INFO @ 12:45:19] Energy consumed for RAM : 0.004310 kWh. RAM Power : 5.626379013061523 W\n",
      "[codecarbon INFO @ 12:45:19] Energy consumed for all CPUs : 0.000000 kWh. All CPUs Power : 0.0 W\n",
      "[codecarbon INFO @ 12:45:19] 0.004310 kWh of electricity used since the begining.\n",
      "[codecarbon INFO @ 12:45:34] Energy consumed for RAM : 0.004334 kWh. RAM Power : 5.626379013061523 W\n",
      "[codecarbon INFO @ 12:45:34] Energy consumed for all CPUs : 0.000000 kWh. All CPUs Power : 0.0 W\n",
      "[codecarbon INFO @ 12:45:34] 0.004334 kWh of electricity used since the begining.\n",
      "[codecarbon INFO @ 12:45:49] Energy consumed for RAM : 0.004357 kWh. RAM Power : 5.626379013061523 W\n",
      "[codecarbon INFO @ 12:45:49] Energy consumed for all CPUs : 0.000000 kWh. All CPUs Power : 0.0 W\n",
      "[codecarbon INFO @ 12:45:49] 0.004357 kWh of electricity used since the begining.\n",
      "[codecarbon INFO @ 12:46:04] Energy consumed for RAM : 0.004381 kWh. RAM Power : 5.626379013061523 W\n",
      "[codecarbon INFO @ 12:46:04] Energy consumed for all CPUs : 0.000000 kWh. All CPUs Power : 0.0 W\n",
      "[codecarbon INFO @ 12:46:04] 0.004381 kWh of electricity used since the begining.\n",
      "[codecarbon INFO @ 12:46:19] Energy consumed for RAM : 0.004404 kWh. RAM Power : 5.626379013061523 W\n",
      "[codecarbon INFO @ 12:46:19] Energy consumed for all CPUs : 0.000000 kWh. All CPUs Power : 0.0 W\n",
      "[codecarbon INFO @ 12:46:19] 0.004404 kWh of electricity used since the begining.\n",
      "[codecarbon INFO @ 12:46:34] Energy consumed for RAM : 0.004428 kWh. RAM Power : 5.626379013061523 W\n",
      "[codecarbon INFO @ 12:46:34] Energy consumed for all CPUs : 0.000000 kWh. All CPUs Power : 0.0 W\n",
      "[codecarbon INFO @ 12:46:34] 0.004428 kWh of electricity used since the begining.\n",
      "[codecarbon INFO @ 12:46:49] Energy consumed for RAM : 0.004451 kWh. RAM Power : 5.626379013061523 W\n",
      "[codecarbon INFO @ 12:46:49] Energy consumed for all CPUs : 0.000000 kWh. All CPUs Power : 0.0 W\n",
      "[codecarbon INFO @ 12:46:49] 0.004451 kWh of electricity used since the begining.\n",
      "[codecarbon INFO @ 12:47:04] Energy consumed for RAM : 0.004474 kWh. RAM Power : 5.626379013061523 W\n",
      "[codecarbon INFO @ 12:47:04] Energy consumed for all CPUs : 0.000000 kWh. All CPUs Power : 0.0 W\n",
      "[codecarbon INFO @ 12:47:04] 0.004474 kWh of electricity used since the begining.\n",
      "[codecarbon INFO @ 12:47:19] Energy consumed for RAM : 0.004498 kWh. RAM Power : 5.626379013061523 W\n"
     ]
    },
    {
     "name": "stderr",
     "output_type": "stream",
     "text": [
      "[codecarbon INFO @ 12:47:19] Energy consumed for all CPUs : 0.000000 kWh. All CPUs Power : 0.0 W\n",
      "[codecarbon INFO @ 12:47:19] 0.004498 kWh of electricity used since the begining.\n",
      "[codecarbon INFO @ 12:47:34] Energy consumed for RAM : 0.004521 kWh. RAM Power : 5.626379013061523 W\n",
      "[codecarbon INFO @ 12:47:34] Energy consumed for all CPUs : 0.000000 kWh. All CPUs Power : 0.0 W\n",
      "[codecarbon INFO @ 12:47:34] 0.004521 kWh of electricity used since the begining.\n",
      "[codecarbon INFO @ 12:47:49] Energy consumed for RAM : 0.004545 kWh. RAM Power : 5.626379013061523 W\n",
      "[codecarbon INFO @ 12:47:49] Energy consumed for all CPUs : 0.000000 kWh. All CPUs Power : 0.0 W\n",
      "[codecarbon INFO @ 12:47:49] 0.004545 kWh of electricity used since the begining.\n",
      "[codecarbon INFO @ 12:48:04] Energy consumed for RAM : 0.004568 kWh. RAM Power : 5.626379013061523 W\n",
      "[codecarbon INFO @ 12:48:04] Energy consumed for all CPUs : 0.000000 kWh. All CPUs Power : 0.0 W\n",
      "[codecarbon INFO @ 12:48:04] 0.004568 kWh of electricity used since the begining.\n",
      "[codecarbon INFO @ 12:48:19] Energy consumed for RAM : 0.004592 kWh. RAM Power : 5.626379013061523 W\n",
      "[codecarbon INFO @ 12:48:19] Energy consumed for all CPUs : 0.000000 kWh. All CPUs Power : 0.0 W\n",
      "[codecarbon INFO @ 12:48:19] 0.004592 kWh of electricity used since the begining.\n",
      "[codecarbon INFO @ 12:48:34] Energy consumed for RAM : 0.004615 kWh. RAM Power : 5.626379013061523 W\n",
      "[codecarbon INFO @ 12:48:34] Energy consumed for all CPUs : 0.000000 kWh. All CPUs Power : 0.0 W\n",
      "[codecarbon INFO @ 12:48:34] 0.004615 kWh of electricity used since the begining.\n"
     ]
    }
   ],
   "source": [
    "tracker.final_emissions_data"
   ]
  },
  {
   "cell_type": "code",
   "execution_count": 6,
   "id": "c477d1e9",
   "metadata": {},
   "outputs": [],
   "source": [
    "## a directory to save VGG checkpoints\n",
    "os.makedirs('./vgg', exist_ok=True)\n",
    "def save_model(model, i):\n",
    "    sd = model.state_dict()\n",
    "    torch.save(model.state_dict(), 'vgg/%s.pt' % i)\n",
    "\n",
    "def load_model(model, i):\n",
    "    sd = torch.load('vgg/%s.pt' % i)\n",
    "    model.load_state_dict(sd)"
   ]
  },
  {
   "cell_type": "code",
   "execution_count": 3,
   "id": "fabbc157",
   "metadata": {
    "scrolled": false
   },
   "outputs": [],
   "source": [
    "## CIFAR-10 dataloaders -- we use FFCV because it's fast\n",
    "from ffcv.fields import IntField, RGBImageField\n",
    "from ffcv.fields.decoders import IntDecoder, SimpleRGBImageDecoder\n",
    "from ffcv.loader import Loader, OrderOption\n",
    "from ffcv.transforms import RandomHorizontalFlip, Cutout, \\\n",
    "    RandomTranslate, Convert, ToDevice, ToTensor, ToTorchImage\n",
    "from ffcv.transforms.common import Squeeze\n",
    "\n",
    "CIFAR_MEAN = [125.307, 122.961, 113.8575]\n",
    "CIFAR_STD = [51.5865, 50.847, 51.255]\n",
    "\n",
    "## fast FFCV data loaders\n",
    "device = 'cuda:0' \n",
    "label_pipeline = [IntDecoder(), ToTensor(), ToDevice(device), Squeeze()]\n",
    "pre_p = [SimpleRGBImageDecoder()]\n",
    "post_p = [\n",
    "    ToTensor(),\n",
    "    ToDevice(device, non_blocking=True),\n",
    "    ToTorchImage(),\n",
    "    Convert(torch.float16),\n",
    "    T.Normalize(CIFAR_MEAN, CIFAR_STD),\n",
    "]\n",
    "aug_p = [\n",
    "    RandomHorizontalFlip(),\n",
    "    RandomTranslate(padding=4),\n",
    "]\n",
    "\n",
    "\n",
    "train_aug_loader = Loader(f'/tmp/cifar_train.beton',\n",
    "                      batch_size=500,\n",
    "                      num_workers=8,\n",
    "                      order=OrderOption.RANDOM,\n",
    "                      drop_last=True,\n",
    "                      pipelines={'image': pre_p+aug_p+post_p,\n",
    "                                 'label': label_pipeline})\n",
    "train_noaug_loader = Loader(f'/tmp/cifar_train.beton',\n",
    "                     batch_size=1000,\n",
    "                     num_workers=8,\n",
    "                     order=OrderOption.SEQUENTIAL,\n",
    "                     drop_last=False,\n",
    "                     pipelines={'image': pre_p+post_p,\n",
    "                                'label': label_pipeline})\n",
    "test_loader = Loader(f'/tmp/cifar_test.beton',\n",
    "                     batch_size=1000,\n",
    "                     num_workers=8,\n",
    "                     order=OrderOption.SEQUENTIAL,\n",
    "                     drop_last=False,\n",
    "                     pipelines={'image': pre_p+post_p,\n",
    "                                'label': label_pipeline})"
   ]
  },
  {
   "cell_type": "code",
   "execution_count": 4,
   "id": "31e22780",
   "metadata": {},
   "outputs": [],
   "source": [
    "## evaluation functions\n",
    "# evaluates accuracy\n",
    "def evaluate(model, loader=test_loader):\n",
    "    model.eval()\n",
    "    correct = 0\n",
    "    with torch.no_grad(), autocast():\n",
    "        for inputs, labels in loader:\n",
    "            outputs = model(inputs.cuda())\n",
    "            pred = outputs.argmax(dim=1)\n",
    "            correct += (labels.cuda() == pred).sum().item()\n",
    "    return correct\n",
    "\n",
    "# evaluates acc and loss\n",
    "def evaluate2(model, loader=test_loader):\n",
    "    model.eval()\n",
    "    losses = []\n",
    "    correct = 0\n",
    "    total = 0\n",
    "    with torch.no_grad(), autocast():\n",
    "        for inputs, labels in loader:\n",
    "            outputs = model(inputs.cuda())\n",
    "            pred = outputs.argmax(dim=1)\n",
    "            correct += (labels.cuda() == pred).sum().item()\n",
    "            total += len(labels)\n",
    "            loss = F.cross_entropy(outputs, labels.cuda())\n",
    "            losses.append(loss.item())\n",
    "    return correct / total, np.array(losses).mean()\n",
    "\n",
    "def full_eval(model):\n",
    "    tr_acc, tr_loss = evaluate2(model, loader=train_noaug_loader)\n",
    "    te_acc, te_loss = evaluate2(model, loader=test_loader)\n",
    "    return '%.2f, %.3f, %.2f, %.3f' % (100*tr_acc, tr_loss, 100*te_acc, te_loss)"
   ]
  },
  {
   "cell_type": "markdown",
   "id": "e42cdbf3",
   "metadata": {},
   "source": [
    "## Train and save two models"
   ]
  },
  {
   "cell_type": "code",
   "execution_count": 5,
   "id": "51b6c738",
   "metadata": {},
   "outputs": [],
   "source": [
    "# https://github.com/kuangliu/pytorch-cifar/blob/master/models/vgg.py\n",
    "cfg = {\n",
    "    'VGG11': [64, 'M', 128, 'M', 256, 256, 'M', 512, 512, 'M', 512, 512, 'M'],\n",
    "    'VGG13': [64, 64, 'M', 128, 128, 'M', 256, 256, 'M', 512, 512, 'M', 512, 512, 'M'],\n",
    "    'VGG16': [64, 64, 'M', 128, 128, 'M', 256, 256, 256, 'M', 512, 512, 512, 'M', 512, 512, 512, 'M'],\n",
    "    'VGG19': [64, 64, 'M', 128, 128, 'M', 256, 256, 256, 256, 'M', 512, 512, 512, 512, 'M', 512, 512, 512, 512, 'M'],\n",
    "}\n",
    "\n",
    "class VGG(nn.Module):\n",
    "    def __init__(self, vgg_name, w=1, bn=False):\n",
    "        super(VGG, self).__init__()\n",
    "        self.vgg_name = vgg_name\n",
    "        self.bn = bn\n",
    "        self.w = w\n",
    "        self.features = self._make_layers(cfg[vgg_name])\n",
    "        self.classifier = nn.Linear(self.w*512, 10)\n",
    "\n",
    "    def forward(self, x):\n",
    "        out = self.features(x)\n",
    "        out = out.view(out.size(0), -1)\n",
    "        out = self.classifier(out)\n",
    "        return out\n",
    "\n",
    "    def _make_layers(self, cfg):\n",
    "        layers = []\n",
    "        in_channels = 3\n",
    "        for x in cfg:\n",
    "            if x == 'M':\n",
    "                layers += [nn.MaxPool2d(kernel_size=2, stride=2)]\n",
    "            else:\n",
    "                layers.append(nn.Conv2d(in_channels if in_channels == 3 else self.w*in_channels,\n",
    "                                     self.w*x, kernel_size=3, padding=1))\n",
    "                if self.bn:\n",
    "                    layers.append(nn.BatchNorm2d(self.w*x))\n",
    "                layers.append(nn.ReLU(inplace=True))\n",
    "                in_channels = x\n",
    "        layers += [nn.AvgPool2d(kernel_size=1, stride=1)]\n",
    "        return nn.Sequential(*layers)"
   ]
  },
  {
   "cell_type": "code",
   "execution_count": 6,
   "id": "35050c3f",
   "metadata": {},
   "outputs": [],
   "source": [
    "def train_model(w=1):\n",
    "    model = VGG('VGG11', w=w).cuda()\n",
    "    optimizer = SGD(model.parameters(), lr=0.08, momentum=0.9, weight_decay=5e-4)\n",
    "\n",
    "    EPOCHS = 100\n",
    "    ne_iters = len(train_aug_loader)\n",
    "    lr_schedule = np.interp(np.arange(1+EPOCHS*ne_iters), [0, 5*ne_iters, EPOCHS*ne_iters], [0, 1, 0])\n",
    "    scheduler = lr_scheduler.LambdaLR(optimizer, lr_schedule.__getitem__)\n",
    "\n",
    "    scaler = GradScaler()\n",
    "    loss_fn = CrossEntropyLoss()\n",
    "\n",
    "    losses = []\n",
    "    for epoch in tqdm(range(EPOCHS)):\n",
    "        model.train()\n",
    "        for i, (inputs, labels) in enumerate(train_aug_loader):\n",
    "            optimizer.zero_grad(set_to_none=True)\n",
    "            with autocast():\n",
    "                outputs = model(inputs.cuda())\n",
    "                loss = loss_fn(outputs, labels.cuda())\n",
    "            scaler.scale(loss).backward()\n",
    "            scaler.step(optimizer)\n",
    "            scaler.update()\n",
    "            scheduler.step()\n",
    "            losses.append(loss.item())\n",
    "    return model"
   ]
  },
  {
   "cell_type": "code",
   "execution_count": 7,
   "id": "8a972049",
   "metadata": {},
   "outputs": [
    {
     "name": "stderr",
     "output_type": "stream",
     "text": [
      "100%|███████████████████████████████████████████████████████████████████████████████████████████████████████████████████████████████████████████████████████████████| 100/100 [03:50<00:00,  2.31s/it]\n"
     ]
    },
    {
     "name": "stdout",
     "output_type": "stream",
     "text": [
      "9045\n"
     ]
    },
    {
     "name": "stderr",
     "output_type": "stream",
     "text": [
      "100%|███████████████████████████████████████████████████████████████████████████████████████████████████████████████████████████████████████████████████████████████| 100/100 [03:48<00:00,  2.29s/it]\n"
     ]
    },
    {
     "name": "stdout",
     "output_type": "stream",
     "text": [
      "9016\n"
     ]
    }
   ],
   "source": [
    "w = 2\n",
    "model = train_model(w)\n",
    "print(evaluate(model))\n",
    "save_model(model, 'vgg11x%d_v1b' % w)\n",
    "\n",
    "model = train_model(w)\n",
    "print(evaluate(model))\n",
    "save_model(model, 'vgg11x%d_v2b' % w)"
   ]
  },
  {
   "cell_type": "markdown",
   "id": "a25cacbb",
   "metadata": {},
   "source": [
    "### matching code"
   ]
  },
  {
   "cell_type": "code",
   "execution_count": 8,
   "id": "363e68ea",
   "metadata": {},
   "outputs": [],
   "source": [
    "# given two networks net0, net1 which each output a feature map of shape NxCxWxH\n",
    "# this will reshape both outputs to (N*W*H)xC\n",
    "# and then compute a CxC correlation matrix between the outputs of the two networks\n",
    "def run_corr_matrix(net0, net1, epochs=1, norm=True, loader=train_aug_loader):\n",
    "    n = epochs*len(loader)\n",
    "    mean0 = mean1 = std0 = std1 = None\n",
    "    with torch.no_grad():\n",
    "        net0.eval()\n",
    "        net1.eval()\n",
    "        for _ in range(epochs):\n",
    "            for i, (images, _) in enumerate(tqdm(loader)):\n",
    "                img_t = images.float().cuda()\n",
    "                out0 = net0(img_t)\n",
    "                out0 = out0.reshape(out0.shape[0], out0.shape[1], -1).permute(0, 2, 1)\n",
    "                out0 = out0.reshape(-1, out0.shape[2]).double()\n",
    "\n",
    "                out1 = net1(img_t)\n",
    "                out1 = out1.reshape(out1.shape[0], out1.shape[1], -1).permute(0, 2, 1)\n",
    "                out1 = out1.reshape(-1, out1.shape[2]).double()\n",
    "\n",
    "                mean0_b = out0.mean(dim=0)\n",
    "                mean1_b = out1.mean(dim=0)\n",
    "                std0_b = out0.std(dim=0)\n",
    "                std1_b = out1.std(dim=0)\n",
    "                outer_b = (out0.T @ out1) / out0.shape[0]\n",
    "\n",
    "                if i == 0:\n",
    "                    mean0 = torch.zeros_like(mean0_b)\n",
    "                    mean1 = torch.zeros_like(mean1_b)\n",
    "                    std0 = torch.zeros_like(std0_b)\n",
    "                    std1 = torch.zeros_like(std1_b)\n",
    "                    outer = torch.zeros_like(outer_b)\n",
    "                mean0 += mean0_b / n\n",
    "                mean1 += mean1_b / n\n",
    "                std0 += std0_b / n\n",
    "                std1 += std1_b / n\n",
    "                outer += outer_b / n\n",
    "\n",
    "    cov = outer - torch.outer(mean0, mean1)\n",
    "    if norm:\n",
    "        corr = cov / (torch.outer(std0, std1) + 1e-4)\n",
    "        return corr\n",
    "    else:\n",
    "        return cov"
   ]
  },
  {
   "cell_type": "code",
   "execution_count": 9,
   "id": "1f9ef263",
   "metadata": {},
   "outputs": [],
   "source": [
    "def get_layer_perm1(corr_mtx):\n",
    "    corr_mtx_a = corr_mtx.cpu().numpy()\n",
    "    row_ind, col_ind = scipy.optimize.linear_sum_assignment(corr_mtx_a, maximize=True)\n",
    "    assert (row_ind == np.arange(len(corr_mtx_a))).all()\n",
    "    perm_map = torch.tensor(col_ind).long()\n",
    "    return perm_map\n",
    "\n",
    "# returns the channel-permutation to make layer1's activations most closely\n",
    "# match layer0's.\n",
    "def get_layer_perm(net0, net1):\n",
    "    corr_mtx = run_corr_matrix(net0, net1)\n",
    "    return get_layer_perm1(corr_mtx)"
   ]
  },
  {
   "cell_type": "code",
   "execution_count": 10,
   "id": "f1aae9be",
   "metadata": {},
   "outputs": [],
   "source": [
    "# modifies the weight matrices of a convolution and batchnorm\n",
    "# layer given a permutation of the output channels\n",
    "def permute_output(perm_map, conv, bn):\n",
    "    pre_weights = [\n",
    "        conv.weight,\n",
    "    ]\n",
    "    if conv.bias is not None:\n",
    "        pre_weights.append(conv.bias)\n",
    "    if bn is not None:\n",
    "        pre_weights.extend([\n",
    "            bn.weight,\n",
    "            bn.bias,\n",
    "            bn.running_mean,\n",
    "            bn.running_var,\n",
    "        ])\n",
    "    for w in pre_weights:\n",
    "        w.data = w[perm_map]\n",
    "\n",
    "# modifies the weight matrix of a layer for a given permutation of the input channels\n",
    "# works for both conv2d and linear\n",
    "def permute_input(perm_map, layer):\n",
    "    w = layer.weight\n",
    "    w.data = w[:, perm_map]"
   ]
  },
  {
   "cell_type": "markdown",
   "id": "09c8b84a",
   "metadata": {},
   "source": [
    "# Find neuron-permutation for each layer"
   ]
  },
  {
   "cell_type": "code",
   "execution_count": 11,
   "id": "c0db278e",
   "metadata": {
    "scrolled": true
   },
   "outputs": [
    {
     "data": {
      "text/plain": [
       "(9045, 9016)"
      ]
     },
     "execution_count": 11,
     "metadata": {},
     "output_type": "execute_result"
    }
   ],
   "source": [
    "model0 = VGG('VGG11', w=w).cuda()\n",
    "model1 = VGG('VGG11', w=w).cuda()\n",
    "load_model(model0, 'vgg11x%d_v1b' % w)\n",
    "load_model(model1, 'vgg11x%d_v2b' % w)\n",
    "\n",
    "evaluate(model0), evaluate(model1)"
   ]
  },
  {
   "cell_type": "markdown",
   "id": "fbb660be",
   "metadata": {},
   "source": [
    "## Permuting neurons in model1 to match model0"
   ]
  },
  {
   "cell_type": "code",
   "execution_count": 12,
   "id": "0a5f5fa8",
   "metadata": {
    "scrolled": false
   },
   "outputs": [
    {
     "name": "stderr",
     "output_type": "stream",
     "text": [
      "100%|███████████████████████████████████████████████████████████████████████████████████████████████████████████████████████████████████████████████████████████████| 100/100 [00:01<00:00, 98.83it/s]\n",
      "100%|███████████████████████████████████████████████████████████████████████████████████████████████████████████████████████████████████████████████████████████████| 100/100 [00:01<00:00, 91.59it/s]\n",
      "100%|███████████████████████████████████████████████████████████████████████████████████████████████████████████████████████████████████████████████████████████████| 100/100 [00:01<00:00, 66.84it/s]\n",
      "100%|███████████████████████████████████████████████████████████████████████████████████████████████████████████████████████████████████████████████████████████████| 100/100 [00:01<00:00, 55.73it/s]\n",
      "100%|███████████████████████████████████████████████████████████████████████████████████████████████████████████████████████████████████████████████████████████████| 100/100 [00:02<00:00, 49.34it/s]\n",
      "100%|███████████████████████████████████████████████████████████████████████████████████████████████████████████████████████████████████████████████████████████████| 100/100 [00:02<00:00, 45.00it/s]\n",
      "100%|███████████████████████████████████████████████████████████████████████████████████████████████████████████████████████████████████████████████████████████████| 100/100 [00:02<00:00, 38.80it/s]\n",
      "100%|███████████████████████████████████████████████████████████████████████████████████████████████████████████████████████████████████████████████████████████████| 100/100 [00:02<00:00, 41.65it/s]\n"
     ]
    }
   ],
   "source": [
    "def subnet(model, n_layers):\n",
    "    return model.features[:n_layers]\n",
    "\n",
    "feats1 = model1.features\n",
    "\n",
    "n = len(feats1)\n",
    "for i in range(n):\n",
    "    layer = feats1[i]\n",
    "    if isinstance(layer, nn.Conv2d):\n",
    "        # get permutation and permute output of conv and maybe bn\n",
    "        if isinstance(feats1[i+1], nn.BatchNorm2d):\n",
    "            assert isinstance(feats1[i+2], nn.ReLU)\n",
    "            perm_map = get_layer_perm(subnet(model0, i+3), subnet(model1, i+3))\n",
    "            permute_output(perm_map, feats1[i], feats1[i+1])\n",
    "        else:\n",
    "            assert isinstance(feats1[i+1], nn.ReLU)\n",
    "            perm_map = get_layer_perm(subnet(model0, i+2), subnet(model1, i+2))\n",
    "            permute_output(perm_map, feats1[i], None)\n",
    "        # look for succeeding layer to permute input\n",
    "        next_layer = None\n",
    "        for j in range(i+1, n):\n",
    "            if isinstance(feats1[j], nn.Conv2d):\n",
    "                next_layer = feats1[j]\n",
    "                break\n",
    "        if next_layer is None:\n",
    "            next_layer = model1.classifier\n",
    "        permute_input(perm_map, next_layer)"
   ]
  },
  {
   "cell_type": "markdown",
   "id": "1d4b4d80",
   "metadata": {},
   "source": [
    "### Save permuted weights"
   ]
  },
  {
   "cell_type": "code",
   "execution_count": 13,
   "id": "3112ee07",
   "metadata": {
    "scrolled": true
   },
   "outputs": [
    {
     "name": "stdout",
     "output_type": "stream",
     "text": [
      "9015\n"
     ]
    }
   ],
   "source": [
    "# ensure accuracy didn't change\n",
    "# (it may be slightly different due to non-associativity of floating point arithmetic)\n",
    "print(evaluate(model1))\n",
    "save_model(model1, 'vgg11x%d_v2b_perm1b' % w)"
   ]
  },
  {
   "cell_type": "markdown",
   "id": "bc494077",
   "metadata": {},
   "source": [
    "## Evaluate the interpolated network"
   ]
  },
  {
   "cell_type": "code",
   "execution_count": 14,
   "id": "1a7ae6a7",
   "metadata": {},
   "outputs": [],
   "source": [
    "def mix_weights(model, alpha, key0, key1):\n",
    "    sd0 = torch.load('vgg/%s.pt' % key0)\n",
    "    sd1 = torch.load('vgg/%s.pt' % key1)\n",
    "    sd_alpha = {k: (1 - alpha) * sd0[k].cuda() + alpha * sd1[k].cuda()\n",
    "                for k in sd0.keys()}\n",
    "    model.load_state_dict(sd_alpha)\n",
    "\n",
    "# use the train loader with data augmentation as this gives better results\n",
    "def reset_bn_stats(model, epochs=1, loader=train_aug_loader):\n",
    "    # resetting stats to baseline first as below is necessary for stability\n",
    "    for m in model.modules():\n",
    "        if type(m) == nn.BatchNorm2d:\n",
    "            m.momentum = None # use simple average\n",
    "            m.reset_running_stats()\n",
    "    # run a single train epoch with augmentations to recalc stats\n",
    "    model.train()\n",
    "    for _ in range(epochs):\n",
    "        with torch.no_grad(), autocast():\n",
    "            for images, _ in loader:\n",
    "                output = model(images.cuda())"
   ]
  },
  {
   "cell_type": "code",
   "execution_count": 22,
   "id": "19b83991",
   "metadata": {
    "scrolled": false
   },
   "outputs": [
    {
     "name": "stdout",
     "output_type": "stream",
     "text": [
      "77.59, 0.815, 73.12, 0.904\n"
     ]
    }
   ],
   "source": [
    "model_a = VGG('VGG11', w=w).cuda()\n",
    "mix_weights(model_a, 0.5, 'vgg11x%d_v1b' % w, 'vgg11x%d_v2b_perm1b' % w)\n",
    "print(full_eval(model_a))"
   ]
  },
  {
   "cell_type": "markdown",
   "id": "6e06da3f",
   "metadata": {},
   "source": [
    "## Diagnosing the problem: measuring unitwise variances\n",
    "\n",
    "The interpolated network got 70% train accuracy -- not very good, much worse than the endpoints which get over 90%. Why does this happen?\n",
    "\n",
    "(We find that) in later layers of the interpolated network, the variance of hidden units has \"collapsed\", relative to the variance of the same hidden units in the original/parent/endpoint networks."
   ]
  },
  {
   "cell_type": "code",
   "execution_count": 23,
   "id": "860f4a42",
   "metadata": {},
   "outputs": [],
   "source": [
    "inputs, _ = next(iter(train_aug_loader))"
   ]
  },
  {
   "cell_type": "code",
   "execution_count": 24,
   "id": "871893bc",
   "metadata": {},
   "outputs": [
    {
     "data": {
      "image/png": "[encoded data removed]",
      "text/plain": [
       "<Figure size 432x288 with 1 Axes>"
      ]
     },
     "metadata": {
      "needs_background": "light"
     },
     "output_type": "display_data"
    }
   ],
   "source": [
    "# returns (vv0, vva, vv1)\n",
    "# where vv0 is a list of layerwise variances (as defined in paper)\n",
    "# for model0 (alpha=0.0)\n",
    "# and vva is the same for the midpoint (alpha=0.5)\n",
    "# and vv1 for model1 (alpha=1.0)\n",
    "def get_layerwise_vars(k0, k1):\n",
    "    vvs = []\n",
    "    for alpha in [0, 0.5, 1]:\n",
    "        mix_weights(model_a, alpha, k0, k1)\n",
    "        vv = []\n",
    "        for i in [1, 4, 7, 9, 12, 14, 17, 19]:\n",
    "#         for i in [2, 5, 8, 10, 13, 15, 18, 20]:\n",
    "            subnet = model_a.features[:i]\n",
    "            with torch.no_grad(), autocast():\n",
    "                out = subnet(inputs)\n",
    "            out = out.permute(1, 0, 2, 3).reshape(out.size(1), -1)\n",
    "            avg_var = out.var(1).mean()\n",
    "            vv.append(avg_var.item())\n",
    "        vvs.append(np.array(vv))\n",
    "    vv0, vva, vv1 = vvs\n",
    "    return vv0, vva, vv1\n",
    "\n",
    "# returns a list of ratios between the variance of\n",
    "# the weight-interpolation midpoint and the averaged variances\n",
    "# of the two endpoints.\n",
    "def get_layerwise_ratios(k0, k1):\n",
    "    vv0, vva, vv1 = get_layerwise_vars(k0, k1)\n",
    "    vv00 = (vv0+vv1)/2\n",
    "    rr = vva/vv0\n",
    "    return rr\n",
    "\n",
    "k0 = 'vgg11x%d_v1b' % w\n",
    "k1 = 'vgg11x%d_v2b' % w\n",
    "rr1 = get_layerwise_ratios(k0, k1)\n",
    "\n",
    "k0 = 'vgg11x%d_v1b' % w\n",
    "k1 = 'vgg11x%d_v2b_perm1b' % w\n",
    "rr2 = get_layerwise_ratios(k0, k1)\n",
    "\n",
    "plt.plot(rr1, label='Without neuron matching')\n",
    "plt.plot(rr2, label='With neuron matching')\n",
    "# plt.yscale('log')\n",
    "plt.ylim([0, 1])\n",
    "plt.xlabel('Layer index')\n",
    "plt.title('VGG11 layerwise variance ratios')\n",
    "plt.ylabel('$\\\\dfrac{\\\\sigma_{0.5}}{(\\\\sigma_0 + \\\\sigma_1)/2}$')\n",
    "plt.legend()\n",
    "plt.show()"
   ]
  },
  {
   "cell_type": "markdown",
   "id": "89396da3",
   "metadata": {},
   "source": [
    "## Solving the problem: Activation Renormalization\n",
    "\n",
    "We introduce a rescaling of each neuron's preactivation in the interpolated network, such that the statistics of each neuron are set to be similar to those of the endpoint networks. Practically, this is accomplished by the temporary introduction of PyTorch nn.BatchNorm2d layers, which are then \"fused\" back into the preceding convolutions."
   ]
  },
  {
   "cell_type": "code",
   "execution_count": 25,
   "id": "4ff057c6",
   "metadata": {},
   "outputs": [],
   "source": [
    "class ResetConv(nn.Module):\n",
    "    def __init__(self, conv):\n",
    "        super().__init__()\n",
    "        self.h = h = conv.out_channels\n",
    "        self.conv = conv\n",
    "        self.bn = nn.BatchNorm2d(h)\n",
    "        self.rescale = False\n",
    "        \n",
    "    def set_stats(self, goal_mean, goal_var):\n",
    "        self.bn.bias.data = goal_mean\n",
    "        goal_std = (goal_var + 1e-5).sqrt()\n",
    "        self.bn.weight.data = goal_std\n",
    "        \n",
    "    def forward(self, x):\n",
    "        x = self.conv(x)\n",
    "        if self.rescale:\n",
    "            x = self.bn(x)\n",
    "        else:\n",
    "            self.bn(x)\n",
    "        return x\n",
    "\n",
    "def make_tracked_net(net, w):\n",
    "    net1 = VGG('VGG11', w=w).cuda()\n",
    "    net1.load_state_dict(net.state_dict())\n",
    "    feats1 = net1.features\n",
    "    for i, layer in enumerate(feats1):\n",
    "        if isinstance(layer, nn.Conv2d):\n",
    "            feats1[i] = ResetConv(layer)\n",
    "    return net1.cuda().eval()\n",
    "\n",
    "def fuse_conv_bn(conv, bn):\n",
    "    fused = torch.nn.Conv2d(\n",
    "        conv.in_channels,\n",
    "        conv.out_channels,\n",
    "        kernel_size=conv.kernel_size,\n",
    "        stride=conv.stride,\n",
    "        padding=conv.padding,\n",
    "        bias=True,\n",
    "    )\n",
    "\n",
    "    # setting weights\n",
    "    w_conv = conv.weight.clone()\n",
    "    bn_std = (bn.eps + bn.running_var).sqrt()\n",
    "    gamma = bn.weight / bn_std\n",
    "    fused.weight.data = (w_conv * gamma.reshape(-1, 1, 1, 1))\n",
    "\n",
    "    # setting bias\n",
    "    b_conv = conv.bias if conv.bias is not None else torch.zeros_like(bn.bias)\n",
    "    beta = bn.bias + gamma * (-bn.running_mean + b_conv)\n",
    "    fused.bias.data = beta\n",
    "    \n",
    "    return fused\n",
    "\n",
    "def fuse_tracked_net(net, w):\n",
    "    net1 = VGG('VGG11', w=w).cuda()\n",
    "    feats1 = net1.features\n",
    "    for i, layer in enumerate(net.features):\n",
    "        if isinstance(layer, ResetConv):\n",
    "            conv = fuse_conv_bn(layer.conv, layer.bn)\n",
    "            feats1[i].load_state_dict(conv.state_dict())\n",
    "    net1.classifier.load_state_dict(net.classifier.state_dict())\n",
    "    return net1"
   ]
  },
  {
   "cell_type": "code",
   "execution_count": 26,
   "id": "2b8f5931",
   "metadata": {},
   "outputs": [
    {
     "name": "stdout",
     "output_type": "stream",
     "text": [
      "train_acc, train_loss, test_acc, test_loss...\n",
      "(α=0.0) 100.00, 0.002, 90.45, 0.449\n",
      "(α=0.5) 77.59, 0.815, 73.12, 0.904\n",
      "(α=1.0) 99.98, 0.002, 90.15, 0.446\n"
     ]
    }
   ],
   "source": [
    "model0 = VGG('VGG11', w).cuda()\n",
    "model_a = VGG('VGG11', w).cuda()\n",
    "model1 = VGG('VGG11', w).cuda()\n",
    "\n",
    "k0 = 'vgg11x%d_v1b' % w\n",
    "k1 = 'vgg11x%d_v2b_perm1b' % w\n",
    "mix_weights(model0, 0.0, k0, k1)\n",
    "mix_weights(model_a, 0.5, k0, k1)\n",
    "mix_weights(model1, 1.0, k0, k1)\n",
    "\n",
    "print('train_acc, train_loss, test_acc, test_loss...')\n",
    "print('(α=0.0)', full_eval(model0))\n",
    "print('(α=0.5)', full_eval(model_a))\n",
    "print('(α=1.0)', full_eval(model1))"
   ]
  },
  {
   "cell_type": "code",
   "execution_count": 27,
   "id": "80f95d1a",
   "metadata": {},
   "outputs": [],
   "source": [
    "## calculate the statistics of every hidden unit in the endpoint networks\n",
    "## this is done practically using PyTorch BatchNorm2d layers.\n",
    "wrap0 = make_tracked_net(model0, w=w)\n",
    "wrap1 = make_tracked_net(model1, w=w)\n",
    "reset_bn_stats(wrap0)\n",
    "reset_bn_stats(wrap1)\n",
    "\n",
    "wrap_a = make_tracked_net(model_a, w=w)\n",
    "## set the goal mean/std in added bns of interpolated network, and turn batch renormalization on\n",
    "for m0, m_a, m1 in zip(wrap0.modules(), wrap_a.modules(), wrap1.modules()):\n",
    "    if not isinstance(m0, ResetConv):\n",
    "        continue\n",
    "    # get goal statistics -- interpolate the mean and std of parent networks\n",
    "    mu0 = m0.bn.running_mean\n",
    "    mu1 = m1.bn.running_mean\n",
    "    goal_mean = (mu0 + mu1)/2\n",
    "    var0 = m0.bn.running_var\n",
    "    var1 = m1.bn.running_var\n",
    "    goal_var = ((var0.sqrt() + var1.sqrt())/2).square()\n",
    "    # set these in the interpolated bn controller\n",
    "    m_a.set_stats(goal_mean, goal_var)\n",
    "    # turn rescaling on\n",
    "    m_a.rescale = True\n",
    "    \n",
    "# reset the tracked mean/var and fuse rescalings back into conv layers \n",
    "reset_bn_stats(wrap_a)\n",
    "# fuse the rescaling+shift coefficients back into conv layers\n",
    "model_b = fuse_tracked_net(wrap_a, w)"
   ]
  },
  {
   "cell_type": "code",
   "execution_count": 28,
   "id": "d8a00564",
   "metadata": {},
   "outputs": [
    {
     "name": "stdout",
     "output_type": "stream",
     "text": [
      "(α=0.5 corrected) 94.42, 0.167, 86.56, 0.533\n"
     ]
    }
   ],
   "source": [
    "print('(α=0.5 corrected)', full_eval(model_b))"
   ]
  },
  {
   "cell_type": "code",
   "execution_count": null,
   "id": "529f9fd9",
   "metadata": {},
   "outputs": [],
   "source": []
  },
  {
   "cell_type": "code",
   "execution_count": null,
   "id": "9fa1693a",
   "metadata": {},
   "outputs": [],
   "source": []
  }
 ],
 "metadata": {
  "kernelspec": {
   "display_name": "Python 3 (ipykernel)",
   "language": "python",
   "name": "python3"
  },
  "language_info": {
   "codemirror_mode": {
    "name": "ipython",
    "version": 3
   },
   "file_extension": ".py",
   "mimetype": "text/x-python",
   "name": "python",
   "nbconvert_exporter": "python",
   "pygments_lexer": "ipython3",
   "version": "3.10.6"
  }
 },
 "nbformat": 4,
 "nbformat_minor": 5
}
